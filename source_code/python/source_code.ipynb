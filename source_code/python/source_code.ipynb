{
 "cells": [
  {
   "cell_type": "markdown",
   "metadata": {
    "toc": true
   },
   "source": [
    "<h1>Table of Contents<span class=\"tocSkip\"></span></h1>\n",
    "<div class=\"toc\"><ul class=\"toc-item\"><li><span><a href=\"#Get-Data\" data-toc-modified-id=\"Get-Data-1\"><span class=\"toc-item-num\">1&nbsp;&nbsp;</span>Get Data</a></span></li><li><span><a href=\"#Data-Exploration-and-Problem-Understanding\" data-toc-modified-id=\"Data-Exploration-and-Problem-Understanding-2\"><span class=\"toc-item-num\">2&nbsp;&nbsp;</span>Data Exploration and Problem Understanding</a></span></li><li><span><a href=\"#Data-Anaysis\" data-toc-modified-id=\"Data-Anaysis-3\"><span class=\"toc-item-num\">3&nbsp;&nbsp;</span>Data Anaysis</a></span><ul class=\"toc-item\"><li><span><a href=\"#race\" data-toc-modified-id=\"race-3.1\"><span class=\"toc-item-num\">3.1&nbsp;&nbsp;</span>race</a></span></li><li><span><a href=\"#age\" data-toc-modified-id=\"age-3.2\"><span class=\"toc-item-num\">3.2&nbsp;&nbsp;</span>age</a></span></li><li><span><a href=\"#features_important\" data-toc-modified-id=\"features_important-3.3\"><span class=\"toc-item-num\">3.3&nbsp;&nbsp;</span>features_important</a></span></li><li><span><a href=\"#match\" data-toc-modified-id=\"match-3.4\"><span class=\"toc-item-num\">3.4&nbsp;&nbsp;</span>match</a></span></li><li><span><a href=\"#Correlation-with-heatmap\" data-toc-modified-id=\"Correlation-with-heatmap-3.5\"><span class=\"toc-item-num\">3.5&nbsp;&nbsp;</span>Correlation with heatmap</a></span></li></ul></li><li><span><a href=\"#Data-Preprocessing\" data-toc-modified-id=\"Data-Preprocessing-4\"><span class=\"toc-item-num\">4&nbsp;&nbsp;</span>Data Preprocessing</a></span><ul class=\"toc-item\"><li><span><a href=\"#Remove-the-preproccessed-and-irrelevant-features\" data-toc-modified-id=\"Remove-the-preproccessed-and-irrelevant-features-4.1\"><span class=\"toc-item-num\">4.1&nbsp;&nbsp;</span>Remove the preproccessed and irrelevant features</a></span></li><li><span><a href=\"#Data-preprocessing-pipeline\" data-toc-modified-id=\"Data-preprocessing-pipeline-4.2\"><span class=\"toc-item-num\">4.2&nbsp;&nbsp;</span>Data preprocessing pipeline</a></span></li><li><span><a href=\"#Split-into-training-set-and-test-set\" data-toc-modified-id=\"Split-into-training-set-and-test-set-4.3\"><span class=\"toc-item-num\">4.3&nbsp;&nbsp;</span>Split into training set and test set</a></span></li><li><span><a href=\"#Transformed-features\" data-toc-modified-id=\"Transformed-features-4.4\"><span class=\"toc-item-num\">4.4&nbsp;&nbsp;</span>Transformed features</a></span></li></ul></li><li><span><a href=\"#Prepare-Classifiers\" data-toc-modified-id=\"Prepare-Classifiers-5\"><span class=\"toc-item-num\">5&nbsp;&nbsp;</span>Prepare Classifiers</a></span></li><li><span><a href=\"#Model-Selection\" data-toc-modified-id=\"Model-Selection-6\"><span class=\"toc-item-num\">6&nbsp;&nbsp;</span>Model Selection</a></span><ul class=\"toc-item\"><li><span><a href=\"#Phase-1:-Performance-Score\" data-toc-modified-id=\"Phase-1:-Performance-Score-6.1\"><span class=\"toc-item-num\">6.1&nbsp;&nbsp;</span>Phase 1: Performance Score</a></span></li><li><span><a href=\"#Phase-2:-Precision-Recall-Curve\" data-toc-modified-id=\"Phase-2:-Precision-Recall-Curve-6.2\"><span class=\"toc-item-num\">6.2&nbsp;&nbsp;</span>Phase 2: Precision-Recall Curve</a></span></li><li><span><a href=\"#Phase-3:-ROC-Curve\" data-toc-modified-id=\"Phase-3:-ROC-Curve-6.3\"><span class=\"toc-item-num\">6.3&nbsp;&nbsp;</span>Phase 3: ROC Curve</a></span></li><li><span><a href=\"#Phase-4:-Final-Selection\" data-toc-modified-id=\"Phase-4:-Final-Selection-6.4\"><span class=\"toc-item-num\">6.4&nbsp;&nbsp;</span>Phase 4: Final Selection</a></span></li></ul></li><li><span><a href=\"#Model-Tuning\" data-toc-modified-id=\"Model-Tuning-7\"><span class=\"toc-item-num\">7&nbsp;&nbsp;</span>Model Tuning</a></span><ul class=\"toc-item\"><li><span><a href=\"#Custom-Functions\" data-toc-modified-id=\"Custom-Functions-7.1\"><span class=\"toc-item-num\">7.1&nbsp;&nbsp;</span>Custom Functions</a></span></li><li><span><a href=\"#Model-1:-Logistic-Regression\" data-toc-modified-id=\"Model-1:-Logistic-Regression-7.2\"><span class=\"toc-item-num\">7.2&nbsp;&nbsp;</span>Model 1: Logistic Regression</a></span><ul class=\"toc-item\"><li><span><a href=\"#Pre-Evaluation\" data-toc-modified-id=\"Pre-Evaluation-7.2.1\"><span class=\"toc-item-num\">7.2.1&nbsp;&nbsp;</span>Pre-Evaluation</a></span></li><li><span><a href=\"#Grid-search\" data-toc-modified-id=\"Grid-search-7.2.2\"><span class=\"toc-item-num\">7.2.2&nbsp;&nbsp;</span>Grid search</a></span></li><li><span><a href=\"#Selecting-threshold\" data-toc-modified-id=\"Selecting-threshold-7.2.3\"><span class=\"toc-item-num\">7.2.3&nbsp;&nbsp;</span>Selecting threshold</a></span></li><li><span><a href=\"#Post-Evaluation\" data-toc-modified-id=\"Post-Evaluation-7.2.4\"><span class=\"toc-item-num\">7.2.4&nbsp;&nbsp;</span>Post Evaluation</a></span></li><li><span><a href=\"#Effect-of-hyparameters\" data-toc-modified-id=\"Effect-of-hyparameters-7.2.5\"><span class=\"toc-item-num\">7.2.5&nbsp;&nbsp;</span>Effect of hyparameters</a></span></li></ul></li><li><span><a href=\"#Model-2:-Support-Vector-Classifier\" data-toc-modified-id=\"Model-2:-Support-Vector-Classifier-7.3\"><span class=\"toc-item-num\">7.3&nbsp;&nbsp;</span>Model 2: Support Vector Classifier</a></span><ul class=\"toc-item\"><li><span><a href=\"#Pre-Evaluation\" data-toc-modified-id=\"Pre-Evaluation-7.3.1\"><span class=\"toc-item-num\">7.3.1&nbsp;&nbsp;</span>Pre-Evaluation</a></span></li><li><span><a href=\"#Grid-search\" data-toc-modified-id=\"Grid-search-7.3.2\"><span class=\"toc-item-num\">7.3.2&nbsp;&nbsp;</span>Grid search</a></span></li><li><span><a href=\"#Selecting-threshold\" data-toc-modified-id=\"Selecting-threshold-7.3.3\"><span class=\"toc-item-num\">7.3.3&nbsp;&nbsp;</span>Selecting threshold</a></span></li><li><span><a href=\"#Post-Evaluation\" data-toc-modified-id=\"Post-Evaluation-7.3.4\"><span class=\"toc-item-num\">7.3.4&nbsp;&nbsp;</span>Post Evaluation</a></span></li><li><span><a href=\"#Effect-of-hyparameters\" data-toc-modified-id=\"Effect-of-hyparameters-7.3.5\"><span class=\"toc-item-num\">7.3.5&nbsp;&nbsp;</span>Effect of hyparameters</a></span></li></ul></li><li><span><a href=\"#Model-3:-Extra-Trees-Classifier\" data-toc-modified-id=\"Model-3:-Extra-Trees-Classifier-7.4\"><span class=\"toc-item-num\">7.4&nbsp;&nbsp;</span>Model 3: Extra Trees Classifier</a></span><ul class=\"toc-item\"><li><span><a href=\"#Pre-Evaluation\" data-toc-modified-id=\"Pre-Evaluation-7.4.1\"><span class=\"toc-item-num\">7.4.1&nbsp;&nbsp;</span>Pre-Evaluation</a></span></li><li><span><a href=\"#Randomized-search\" data-toc-modified-id=\"Randomized-search-7.4.2\"><span class=\"toc-item-num\">7.4.2&nbsp;&nbsp;</span>Randomized search</a></span></li><li><span><a href=\"#Selecting-threshold\" data-toc-modified-id=\"Selecting-threshold-7.4.3\"><span class=\"toc-item-num\">7.4.3&nbsp;&nbsp;</span>Selecting threshold</a></span></li><li><span><a href=\"#Post-Evaluation\" data-toc-modified-id=\"Post-Evaluation-7.4.4\"><span class=\"toc-item-num\">7.4.4&nbsp;&nbsp;</span>Post Evaluation</a></span></li><li><span><a href=\"#Effect-of-hyparameters\" data-toc-modified-id=\"Effect-of-hyparameters-7.4.5\"><span class=\"toc-item-num\">7.4.5&nbsp;&nbsp;</span>Effect of hyparameters</a></span></li></ul></li></ul></li><li><span><a href=\"#Model-Testing\" data-toc-modified-id=\"Model-Testing-8\"><span class=\"toc-item-num\">8&nbsp;&nbsp;</span>Model Testing</a></span></li><li><span><a href=\"#Conclusion\" data-toc-modified-id=\"Conclusion-9\"><span class=\"toc-item-num\">9&nbsp;&nbsp;</span>Conclusion</a></span></li><li><span><a href=\"#Model-Deployment\" data-toc-modified-id=\"Model-Deployment-10\"><span class=\"toc-item-num\">10&nbsp;&nbsp;</span>Model Deployment</a></span></li></ul></div>"
   ]
  },
  {
   "cell_type": "code",
   "execution_count": null,
   "metadata": {
    "colab": {
     "base_uri": "https://localhost:8080/",
     "height": 52
    },
    "colab_type": "code",
    "executionInfo": {
     "elapsed": 5607,
     "status": "ok",
     "timestamp": 1599298622547,
     "user": {
      "displayName": "PolarBear Yap",
      "photoUrl": "https://lh3.googleusercontent.com/a-/AOh14Gh6xY6wDRASo9ifgNeDcwMeBd3TCQFVGw14HLGtCg=s64",
      "userId": "07391035732959922581"
     },
     "user_tz": -480
    },
    "id": "xjdzFReXcIO-",
    "lines_to_end_of_cell_marker": 2,
    "outputId": "f0834459-1dd6-45a4-94f9-216bd3ac6b33"
   },
   "outputs": [],
   "source": [
    "import time\n",
    "from itertools import product\n",
    "\n",
    "import numpy as np\n",
    "import pandas as pd\n",
    "import pickle\n",
    "import re\n",
    "import seaborn as sns\n",
    "from matplotlib import pyplot as plt\n",
    "from sklearn.base import BaseEstimator, TransformerMixin, clone\n",
    "from sklearn.compose import make_column_transformer\n",
    "from sklearn.discriminant_analysis import QuadraticDiscriminantAnalysis\n",
    "from sklearn.ensemble import (\n",
    "    AdaBoostClassifier,\n",
    "    ExtraTreesClassifier,\n",
    "    RandomForestClassifier,\n",
    ")\n",
    "from sklearn.impute import SimpleImputer\n",
    "from sklearn.linear_model import LogisticRegression\n",
    "from sklearn.metrics import (\n",
    "    ConfusionMatrixDisplay,\n",
    "    RocCurveDisplay,\n",
    "    auc,\n",
    "    confusion_matrix,\n",
    "    plot_precision_recall_curve,\n",
    "    precision_recall_curve,\n",
    "    roc_curve,\n",
    ")\n",
    "from sklearn.model_selection import (\n",
    "    RandomizedSearchCV,\n",
    "    StratifiedShuffleSplit,\n",
    "    cross_val_predict,\n",
    "    cross_validate,\n",
    "    validation_curve,\n",
    ")\n",
    "from sklearn.naive_bayes import ComplementNB\n",
    "from sklearn.neighbors import KNeighborsClassifier\n",
    "from sklearn.pipeline import make_pipeline\n",
    "from sklearn.preprocessing import (\n",
    "    FunctionTransformer,\n",
    "    MinMaxScaler,\n",
    "    RobustScaler,\n",
    ")\n",
    "from sklearn.svm import SVC\n",
    "from sklearn.tree import DecisionTreeClassifier"
   ]
  },
  {
   "cell_type": "code",
   "execution_count": null,
   "metadata": {},
   "outputs": [],
   "source": [
    "# Set the default font size of all matplotlib plots\n",
    "plt.rcParams.update({'font.size': 12})"
   ]
  },
  {
   "cell_type": "markdown",
   "metadata": {
    "colab_type": "text",
    "id": "V8yVBoUxNq1H"
   },
   "source": [
    "# Get Data"
   ]
  },
  {
   "cell_type": "code",
   "execution_count": null,
   "metadata": {
    "colab": {},
    "colab_type": "code",
    "id": "hAax9YHibqLa"
   },
   "outputs": [],
   "source": [
    "BANK_DATA_FILE_PATH = '../../datasets/speed_dating.csv'\n",
    "BANK_DATA_URL = 'https://raw.githubusercontent.com/polarBearYap/AI_Assignment/master/Datasets/speeddating.csv'\n",
    "\n",
    "\n",
    "def fetch_data_from_website(path):\n",
    "    return pd.read_csv(path, low_memory=False)"
   ]
  },
  {
   "cell_type": "code",
   "execution_count": null,
   "metadata": {
    "colab": {},
    "colab_type": "code",
    "id": "R_kFejV3b9h8"
   },
   "outputs": [],
   "source": [
    "dating = fetch_data_from_website(BANK_DATA_FILE_PATH)"
   ]
  },
  {
   "cell_type": "markdown",
   "metadata": {
    "colab_type": "text",
    "id": "064tAdLdZspr"
   },
   "source": [
    "# Data Exploration and Problem Understanding"
   ]
  },
  {
   "cell_type": "markdown",
   "metadata": {
    "colab_type": "text",
    "id": "tuGWWY2OZ_2t"
   },
   "source": [
    "List of all attributes"
   ]
  },
  {
   "cell_type": "code",
   "execution_count": null,
   "metadata": {
    "colab": {
     "base_uri": "https://localhost:8080/",
     "height": 1000
    },
    "colab_type": "code",
    "executionInfo": {
     "elapsed": 8846,
     "status": "ok",
     "timestamp": 1599298625877,
     "user": {
      "displayName": "PolarBear Yap",
      "photoUrl": "https://lh3.googleusercontent.com/a-/AOh14Gh6xY6wDRASo9ifgNeDcwMeBd3TCQFVGw14HLGtCg=s64",
      "userId": "07391035732959922581"
     },
     "user_tz": -480
    },
    "id": "Fp4m9zkVZsK3",
    "outputId": "29344e1f-75c3-40c1-a4af-11f132a54b8e"
   },
   "outputs": [],
   "source": [
    "list(dating.columns.values)"
   ]
  },
  {
   "cell_type": "code",
   "execution_count": null,
   "metadata": {
    "colab": {
     "base_uri": "https://localhost:8080/",
     "height": 105
    },
    "colab_type": "code",
    "executionInfo": {
     "elapsed": 8619,
     "status": "ok",
     "timestamp": 1599298625877,
     "user": {
      "displayName": "PolarBear Yap",
      "photoUrl": "https://lh3.googleusercontent.com/a-/AOh14Gh6xY6wDRASo9ifgNeDcwMeBd3TCQFVGw14HLGtCg=s64",
      "userId": "07391035732959922581"
     },
     "user_tz": -480
    },
    "id": "Jg20dAwVZ04_",
    "outputId": "eb92900a-9c42-4248-bc95-786288b6781d"
   },
   "outputs": [],
   "source": [
    "dating.info()"
   ]
  },
  {
   "cell_type": "code",
   "execution_count": null,
   "metadata": {
    "colab": {
     "base_uri": "https://localhost:8080/",
     "height": 287
    },
    "colab_type": "code",
    "executionInfo": {
     "elapsed": 8578,
     "status": "ok",
     "timestamp": 1599298625878,
     "user": {
      "displayName": "PolarBear Yap",
      "photoUrl": "https://lh3.googleusercontent.com/a-/AOh14Gh6xY6wDRASo9ifgNeDcwMeBd3TCQFVGw14HLGtCg=s64",
      "userId": "07391035732959922581"
     },
     "user_tz": -480
    },
    "id": "v_NDS70PZ024",
    "outputId": "6075be3d-c5b9-4bcc-fe46-4a5848f136fc"
   },
   "outputs": [],
   "source": [
    "dating.describe()"
   ]
  },
  {
   "cell_type": "code",
   "execution_count": null,
   "metadata": {
    "colab": {
     "base_uri": "https://localhost:8080/",
     "height": 413
    },
    "colab_type": "code",
    "executionInfo": {
     "elapsed": 8538,
     "status": "ok",
     "timestamp": 1599298625879,
     "user": {
      "displayName": "PolarBear Yap",
      "photoUrl": "https://lh3.googleusercontent.com/a-/AOh14Gh6xY6wDRASo9ifgNeDcwMeBd3TCQFVGw14HLGtCg=s64",
      "userId": "07391035732959922581"
     },
     "user_tz": -480
    },
    "id": "qLH_bj-raFyi",
    "outputId": "bdf21e88-7c1a-4623-c655-a411bdc21be7"
   },
   "outputs": [],
   "source": [
    "dating.head()"
   ]
  },
  {
   "cell_type": "code",
   "execution_count": null,
   "metadata": {
    "colab": {
     "base_uri": "https://localhost:8080/",
     "height": 34
    },
    "colab_type": "code",
    "executionInfo": {
     "elapsed": 8504,
     "status": "ok",
     "timestamp": 1599298625880,
     "user": {
      "displayName": "PolarBear Yap",
      "photoUrl": "https://lh3.googleusercontent.com/a-/AOh14Gh6xY6wDRASo9ifgNeDcwMeBd3TCQFVGw14HLGtCg=s64",
      "userId": "07391035732959922581"
     },
     "user_tz": -480
    },
    "id": "BVZ-kIo3aFwt",
    "outputId": "9a5b374f-9b1c-41c6-9a61-320f438b8359"
   },
   "outputs": [],
   "source": [
    "preprocessed_features = [feature for feature in dating.columns if feature.lower()[\n",
    "    :2] == 'd_']\n",
    "print(f'Amount of preproccessed features: {len(preprocessed_features)}')"
   ]
  },
  {
   "cell_type": "markdown",
   "metadata": {
    "colab_type": "text",
    "id": "jOsg2u0FaxdI"
   },
   "source": [
    "# Data Anaysis"
   ]
  },
  {
   "cell_type": "markdown",
   "metadata": {
    "colab_type": "text",
    "id": "mNOBm__QiIDs"
   },
   "source": [
    "## race"
   ]
  },
  {
   "cell_type": "markdown",
   "metadata": {
    "colab_type": "text",
    "id": "FuarXhV0hlAf"
   },
   "source": [
    "Distribution of race among the genders"
   ]
  },
  {
   "cell_type": "code",
   "execution_count": null,
   "metadata": {
    "colab": {
     "base_uri": "https://localhost:8080/",
     "height": 781
    },
    "colab_type": "code",
    "executionInfo": {
     "elapsed": 9802,
     "status": "ok",
     "timestamp": 1599298627210,
     "user": {
      "displayName": "PolarBear Yap",
      "photoUrl": "https://lh3.googleusercontent.com/a-/AOh14Gh6xY6wDRASo9ifgNeDcwMeBd3TCQFVGw14HLGtCg=s64",
      "userId": "07391035732959922581"
     },
     "user_tz": -480
    },
    "id": "IqfSIXd4hMnI",
    "outputId": "619c22cf-e6f3-4571-e2ec-d392163b26e8"
   },
   "outputs": [],
   "source": [
    "race = ['Black/African American', 'European/Caucasian-American', 'Latino/Hispanic American',\n",
    "        'Asian/Pacific Islander/Asian-American', 'Native American', 'Other']\n",
    "plotRace = plt.figure(figsize=(10, 10))\n",
    "plotRace = sns.countplot(x='race', data=dating, hue='gender', palette='Set1')\n",
    "plotRace.set(xticklabels=race)\n",
    "\n",
    "plotRace.set_title('Number of male and female from different races')\n",
    "g = plt.xticks(rotation=45, fontsize=12)"
   ]
  },
  {
   "cell_type": "code",
   "execution_count": null,
   "metadata": {
    "colab": {
     "base_uri": "https://localhost:8080/",
     "height": 356
    },
    "colab_type": "code",
    "executionInfo": {
     "elapsed": 9764,
     "status": "ok",
     "timestamp": 1599298627212,
     "user": {
      "displayName": "PolarBear Yap",
      "photoUrl": "https://lh3.googleusercontent.com/a-/AOh14Gh6xY6wDRASo9ifgNeDcwMeBd3TCQFVGw14HLGtCg=s64",
      "userId": "07391035732959922581"
     },
     "user_tz": -480
    },
    "id": "RU5RHlNkhNnt",
    "outputId": "9bba46fd-1133-4f6c-f633-a26fa6a07a78"
   },
   "outputs": [],
   "source": [
    "# Plotting a pie chart\n",
    "plt.figure(figsize=[6, 6])\n",
    "dating[dating.race != '?'].race.value_counts().plot.pie()\n",
    "plt.show()"
   ]
  },
  {
   "cell_type": "markdown",
   "metadata": {
    "colab_type": "text",
    "id": "9a35UW-bhv2u"
   },
   "source": [
    "## age"
   ]
  },
  {
   "cell_type": "markdown",
   "metadata": {
    "colab_type": "text",
    "id": "1g-MYzcyh4SB"
   },
   "source": [
    "Find outliers in Age"
   ]
  },
  {
   "cell_type": "code",
   "execution_count": null,
   "metadata": {
    "colab": {
     "base_uri": "https://localhost:8080/",
     "height": 390
    },
    "colab_type": "code",
    "executionInfo": {
     "elapsed": 9737,
     "status": "ok",
     "timestamp": 1599298627213,
     "user": {
      "displayName": "PolarBear Yap",
      "photoUrl": "https://lh3.googleusercontent.com/a-/AOh14Gh6xY6wDRASo9ifgNeDcwMeBd3TCQFVGw14HLGtCg=s64",
      "userId": "07391035732959922581"
     },
     "user_tz": -480
    },
    "id": "DQDQtWANhiDa",
    "outputId": "f1022085-ff7f-4757-c9e4-f43776467ea1"
   },
   "outputs": [],
   "source": [
    "ages = dating[dating.age != '?']\n",
    "plt.figure(figsize=[6, 6])\n",
    "ages['age'].astype(str).astype(int).plot(kind='box')\n",
    "plt.title('Age Frequency Boxplot')\n",
    "plt.show()"
   ]
  },
  {
   "cell_type": "markdown",
   "metadata": {
    "colab_type": "text",
    "id": "4wXfL3w4h7g4"
   },
   "source": [
    "Distribution of Age"
   ]
  },
  {
   "cell_type": "code",
   "execution_count": null,
   "metadata": {
    "colab": {
     "base_uri": "https://localhost:8080/",
     "height": 404
    },
    "colab_type": "code",
    "executionInfo": {
     "elapsed": 9705,
     "status": "ok",
     "timestamp": 1599298627214,
     "user": {
      "displayName": "PolarBear Yap",
      "photoUrl": "https://lh3.googleusercontent.com/a-/AOh14Gh6xY6wDRASo9ifgNeDcwMeBd3TCQFVGw14HLGtCg=s64",
      "userId": "07391035732959922581"
     },
     "user_tz": -480
    },
    "id": "VEyOiBsmh7nt",
    "outputId": "a29919ef-4b94-4d60-ea89-20dcf54a9f11"
   },
   "outputs": [],
   "source": [
    "plt.figure(figsize=[6, 6])\n",
    "plt.hist(ages['age'].astype(str).astype(int))\n",
    "plt.gca().set(title='Age Frequency Histogram', ylabel='Frequency', xlabel='Age')\n",
    "plt.show()"
   ]
  },
  {
   "cell_type": "code",
   "execution_count": null,
   "metadata": {
    "colab": {
     "base_uri": "https://localhost:8080/",
     "height": 404
    },
    "colab_type": "code",
    "executionInfo": {
     "elapsed": 10998,
     "status": "ok",
     "timestamp": 1599298628540,
     "user": {
      "displayName": "PolarBear Yap",
      "photoUrl": "https://lh3.googleusercontent.com/a-/AOh14Gh6xY6wDRASo9ifgNeDcwMeBd3TCQFVGw14HLGtCg=s64",
      "userId": "07391035732959922581"
     },
     "user_tz": -480
    },
    "id": "HEL2e9pLiiDj",
    "outputId": "2fe7fe0a-c1f7-453a-db07-c65a15a5ddbd"
   },
   "outputs": [],
   "source": [
    "plt.figure(figsize=[6, 6])\n",
    "ages['age'].astype(str).astype(int).plot.density()\n",
    "plt.title('Age Density Plot - Mixed')\n",
    "plt.xlabel('Age')\n",
    "plt.show()"
   ]
  },
  {
   "cell_type": "markdown",
   "metadata": {
    "colab_type": "text",
    "id": "-wc7YVYCi1x_"
   },
   "source": [
    "## features_important"
   ]
  },
  {
   "cell_type": "code",
   "execution_count": null,
   "metadata": {
    "colab": {
     "base_uri": "https://localhost:8080/",
     "height": 404
    },
    "colab_type": "code",
    "executionInfo": {
     "elapsed": 10973,
     "status": "ok",
     "timestamp": 1599298628553,
     "user": {
      "displayName": "PolarBear Yap",
      "photoUrl": "https://lh3.googleusercontent.com/a-/AOh14Gh6xY6wDRASo9ifgNeDcwMeBd3TCQFVGw14HLGtCg=s64",
      "userId": "07391035732959922581"
     },
     "user_tz": -480
    },
    "id": "Ns75zCCgi16m",
    "outputId": "011eb825-6853-4960-e28b-379d15b00695"
   },
   "outputs": [],
   "source": [
    "attractive_imp = dating[dating.attractive_important != '?']\n",
    "plt.figure(figsize=[6, 6])\n",
    "plt.hist(attractive_imp['attractive_important'].astype(str).astype(float))\n",
    "plt.gca().set(title='Preference for Attractiveness',\n",
    "              xlabel='Attractiveness (0-100)', ylabel='Count')\n",
    "plt.show()"
   ]
  },
  {
   "cell_type": "code",
   "execution_count": null,
   "metadata": {
    "colab": {
     "base_uri": "https://localhost:8080/",
     "height": 404
    },
    "colab_type": "code",
    "executionInfo": {
     "elapsed": 10947,
     "status": "ok",
     "timestamp": 1599298628554,
     "user": {
      "displayName": "PolarBear Yap",
      "photoUrl": "https://lh3.googleusercontent.com/a-/AOh14Gh6xY6wDRASo9ifgNeDcwMeBd3TCQFVGw14HLGtCg=s64",
      "userId": "07391035732959922581"
     },
     "user_tz": -480
    },
    "id": "6UTdAeSFjGzP",
    "outputId": "620dd8fa-c8b2-4008-e7bb-f2be5d8c6328"
   },
   "outputs": [],
   "source": [
    "sincere_imp = dating[dating.sincere_important != '?']\n",
    "plt.figure(figsize=[6, 6])\n",
    "plt.hist(sincere_imp['sincere_important'].astype(str).astype(float))\n",
    "plt.gca().set(title='Preference for Sincerity',\n",
    "              xlabel='Sincerity (0-100)', ylabel='Count')\n",
    "plt.show()"
   ]
  },
  {
   "cell_type": "code",
   "execution_count": null,
   "metadata": {
    "colab": {
     "base_uri": "https://localhost:8080/",
     "height": 404
    },
    "colab_type": "code",
    "executionInfo": {
     "elapsed": 10918,
     "status": "ok",
     "timestamp": 1599298628555,
     "user": {
      "displayName": "PolarBear Yap",
      "photoUrl": "https://lh3.googleusercontent.com/a-/AOh14Gh6xY6wDRASo9ifgNeDcwMeBd3TCQFVGw14HLGtCg=s64",
      "userId": "07391035732959922581"
     },
     "user_tz": -480
    },
    "id": "WufjJ5fwjG70",
    "outputId": "b5e684c6-505e-49d8-8d5e-f6355be65c83"
   },
   "outputs": [],
   "source": [
    "intellicence_imp = dating[dating.intellicence_important != '?']\n",
    "plt.figure(figsize=[6, 6])\n",
    "plt.hist(intellicence_imp['intellicence_important'].astype(str).astype(float))\n",
    "plt.gca().set(title='Preference for Intellicence',\n",
    "              xlabel='Intellicence (0-100)', ylabel='Count')\n",
    "plt.show()"
   ]
  },
  {
   "cell_type": "code",
   "execution_count": null,
   "metadata": {
    "colab": {
     "base_uri": "https://localhost:8080/",
     "height": 404
    },
    "colab_type": "code",
    "executionInfo": {
     "elapsed": 10890,
     "status": "ok",
     "timestamp": 1599298628556,
     "user": {
      "displayName": "PolarBear Yap",
      "photoUrl": "https://lh3.googleusercontent.com/a-/AOh14Gh6xY6wDRASo9ifgNeDcwMeBd3TCQFVGw14HLGtCg=s64",
      "userId": "07391035732959922581"
     },
     "user_tz": -480
    },
    "id": "SLv2jcNNjHMh",
    "outputId": "5cbe09cf-86af-49be-9e47-4a14f383cb08"
   },
   "outputs": [],
   "source": [
    "funny_imp = dating[dating.funny_important != '?']\n",
    "plt.figure(figsize=[6, 6])\n",
    "plt.hist(funny_imp['funny_important'].astype(str).astype(float))\n",
    "plt.gca().set(title='Preference for Funny', xlabel='Funny (0-100)', ylabel='Count')\n",
    "plt.show()"
   ]
  },
  {
   "cell_type": "code",
   "execution_count": null,
   "metadata": {
    "colab": {
     "base_uri": "https://localhost:8080/",
     "height": 404
    },
    "colab_type": "code",
    "executionInfo": {
     "elapsed": 10860,
     "status": "ok",
     "timestamp": 1599298628557,
     "user": {
      "displayName": "PolarBear Yap",
      "photoUrl": "https://lh3.googleusercontent.com/a-/AOh14Gh6xY6wDRASo9ifgNeDcwMeBd3TCQFVGw14HLGtCg=s64",
      "userId": "07391035732959922581"
     },
     "user_tz": -480
    },
    "id": "eVsmP1QTjHUG",
    "outputId": "f4351954-eff8-4058-cb09-7facf30d9619"
   },
   "outputs": [],
   "source": [
    "ambtition_imp = dating[dating.ambtition_important != '?']\n",
    "plt.figure(figsize=[6, 6])\n",
    "plt.hist(ambtition_imp['ambtition_important'].astype(str).astype(float))\n",
    "plt.gca().set(title='Preference for Ambtition',\n",
    "              xlabel='Ambtition (0-100)', ylabel='Count')\n",
    "plt.show()"
   ]
  },
  {
   "cell_type": "code",
   "execution_count": null,
   "metadata": {
    "colab": {
     "base_uri": "https://localhost:8080/",
     "height": 404
    },
    "colab_type": "code",
    "executionInfo": {
     "elapsed": 10834,
     "status": "ok",
     "timestamp": 1599298628558,
     "user": {
      "displayName": "PolarBear Yap",
      "photoUrl": "https://lh3.googleusercontent.com/a-/AOh14Gh6xY6wDRASo9ifgNeDcwMeBd3TCQFVGw14HLGtCg=s64",
      "userId": "07391035732959922581"
     },
     "user_tz": -480
    },
    "id": "pGXaYiWTjHcv",
    "outputId": "f22f453d-f207-4f59-974f-6d7128da7dbe"
   },
   "outputs": [],
   "source": [
    "shared_interests_imp = dating[dating.shared_interests_important != '?']\n",
    "plt.figure(figsize=[6, 6])\n",
    "plt.hist(shared_interests_imp['shared_interests_important'].astype(\n",
    "    str).astype(float))\n",
    "plt.gca().set(title='Preference for Shared Interests',\n",
    "              xlabel='Shared Interests (0-100)', ylabel='Count')\n",
    "plt.show()"
   ]
  },
  {
   "cell_type": "markdown",
   "metadata": {
    "colab_type": "text",
    "id": "BC7L5ZdBim5k"
   },
   "source": [
    "## match"
   ]
  },
  {
   "cell_type": "code",
   "execution_count": null,
   "metadata": {
    "colab": {
     "base_uri": "https://localhost:8080/",
     "height": 294
    },
    "colab_type": "code",
    "executionInfo": {
     "elapsed": 11337,
     "status": "ok",
     "timestamp": 1599298629093,
     "user": {
      "displayName": "PolarBear Yap",
      "photoUrl": "https://lh3.googleusercontent.com/a-/AOh14Gh6xY6wDRASo9ifgNeDcwMeBd3TCQFVGw14HLGtCg=s64",
      "userId": "07391035732959922581"
     },
     "user_tz": -480
    },
    "id": "M1WAUeEBipdE",
    "outputId": "e06e9e79-196b-4c9d-e4d1-8a229cbf6be0"
   },
   "outputs": [],
   "source": [
    "matches = ('No', 'Yes')\n",
    "y_pos = np.arange(len(matches))\n",
    "values = [6998, 1380]\n",
    "plt.bar(y_pos, values, align='center', alpha=0.5)\n",
    "plt.xticks(y_pos, matches)\n",
    "plt.ylabel('Count')\n",
    "plt.xlabel(\"Match (0 - No/1 - Yes)'\")\n",
    "plt.title('Frequency of Matches - Combined Gender.')\n",
    "plt.show()"
   ]
  },
  {
   "cell_type": "markdown",
   "metadata": {
    "colab_type": "text",
    "id": "yZNI1yInVcGh"
   },
   "source": [
    "## Correlation with heatmap"
   ]
  },
  {
   "cell_type": "markdown",
   "metadata": {
    "colab_type": "text",
    "id": "iGz67KxzW6Q-"
   },
   "source": [
    "Convert numerical features to numeric data type to plot heatmap"
   ]
  },
  {
   "cell_type": "code",
   "execution_count": null,
   "metadata": {
    "colab": {},
    "colab_type": "code",
    "id": "zZiDnlTlWM8K"
   },
   "outputs": [],
   "source": [
    "numerical_features = ['age',\n",
    "                      'samerace',\n",
    "                      'importance_same_race',\n",
    "                      'importance_same_religion',\n",
    "                      'attractive_important',\n",
    "                      'sincere_important',\n",
    "                      'intellicence_important',\n",
    "                      'funny_important',\n",
    "                      'ambtition_important',\n",
    "                      'shared_interests_important',\n",
    "                      'attractive',\n",
    "                      'sincere',\n",
    "                      'intelligence',\n",
    "                      'funny',\n",
    "                      'ambition',\n",
    "                      'attractive_partner',\n",
    "                      'intelligence_partner',\n",
    "                      'funny_partner',\n",
    "                      'ambition_partner',\n",
    "                      'shared_interests_partner',\n",
    "                      'like',\n",
    "                      'guess_prob_liked',\n",
    "                      'met',\n",
    "                      'decision_o',\n",
    "                      'match', ]"
   ]
  },
  {
   "cell_type": "code",
   "execution_count": null,
   "metadata": {
    "colab": {},
    "colab_type": "code",
    "id": "1ECjLCXdVelC"
   },
   "outputs": [],
   "source": [
    "# make a new copy of data\n",
    "dating_temp = dating.copy()\n",
    "\n",
    "\n",
    "def turn_to_float(string):\n",
    "    if string == '?':\n",
    "        return np.nan\n",
    "    else:\n",
    "        i_ret = float(string)\n",
    "        return i_ret\n",
    "\n",
    "\n",
    "for feature in numerical_features:\n",
    "    dating_temp[feature] = dating_temp[feature].apply(turn_to_float)"
   ]
  },
  {
   "cell_type": "code",
   "execution_count": null,
   "metadata": {
    "colab": {
     "base_uri": "https://localhost:8080/",
     "height": 817
    },
    "colab_type": "code",
    "executionInfo": {
     "elapsed": 11287,
     "status": "ok",
     "timestamp": 1599298629097,
     "user": {
      "displayName": "PolarBear Yap",
      "photoUrl": "https://lh3.googleusercontent.com/a-/AOh14Gh6xY6wDRASo9ifgNeDcwMeBd3TCQFVGw14HLGtCg=s64",
      "userId": "07391035732959922581"
     },
     "user_tz": -480
    },
    "id": "vkrmOzSAVgYl",
    "outputId": "f6ea908f-c85c-4da1-a381-ccb0b158bd24"
   },
   "outputs": [],
   "source": [
    "heatmap = dating_temp[numerical_features]\n",
    "\n",
    "corr = heatmap.corr()\n",
    "corr"
   ]
  },
  {
   "cell_type": "code",
   "execution_count": null,
   "metadata": {
    "colab": {
     "base_uri": "https://localhost:8080/",
     "height": 734
    },
    "colab_type": "code",
    "executionInfo": {
     "elapsed": 12373,
     "status": "ok",
     "timestamp": 1599298630213,
     "user": {
      "displayName": "PolarBear Yap",
      "photoUrl": "https://lh3.googleusercontent.com/a-/AOh14Gh6xY6wDRASo9ifgNeDcwMeBd3TCQFVGw14HLGtCg=s64",
      "userId": "07391035732959922581"
     },
     "user_tz": -480
    },
    "id": "IRAMF_T6Wjye",
    "outputId": "45647c00-f5bb-4a6d-f69f-733aa47c27c7"
   },
   "outputs": [],
   "source": [
    "plt.figure(figsize=[10, 10])\n",
    "sns.heatmap(corr)\n",
    "plt.title('Large multi-variable heatmap - Subjective attributes.')\n",
    "plt.show()"
   ]
  },
  {
   "cell_type": "markdown",
   "metadata": {
    "colab_type": "text",
    "id": "CNSOz-Y1a0tk"
   },
   "source": [
    "# Data Preprocessing"
   ]
  },
  {
   "cell_type": "markdown",
   "metadata": {
    "colab_type": "text",
    "id": "M_C47rulfi3f"
   },
   "source": [
    "## Remove the preproccessed and irrelevant features"
   ]
  },
  {
   "cell_type": "code",
   "execution_count": null,
   "metadata": {
    "colab": {},
    "colab_type": "code",
    "id": "B4PGJD-jj9cp"
   },
   "outputs": [],
   "source": [
    "preproccessed_features = [feature for feature in dating.columns if feature.lower()[:2] == 'd_']\n",
    "\n",
    "irrelevant_features = ['has_null',\n",
    "                       'wave',\n",
    "                       'expected_happy_with_sd_people',\n",
    "                       'expected_num_interested_in_me',\n",
    "                       'expected_num_matches',\n",
    "                       'field',\n",
    "                       'decision']\n",
    "\n",
    "self_interest_feature = ['sports',\n",
    "                         'tvsports',\n",
    "                         'exercise',\n",
    "                         'dining',\n",
    "                         'museums',\n",
    "                         'art',\n",
    "                         'hiking',\n",
    "                         'gaming',\n",
    "                         'clubbing',\n",
    "                         'reading',\n",
    "                         'tv',\n",
    "                         'theater',\n",
    "                         'movies',\n",
    "                         'concerts',\n",
    "                         'music',\n",
    "                         'shopping',\n",
    "                         'yoga']\n",
    "\n",
    "partner_features = ['age_o',\n",
    "                    'race_o',\n",
    "                    'pref_o_attractive',\n",
    "                    'pref_o_sincere',\n",
    "                    'pref_o_intelligence',\n",
    "                    'pref_o_funny',\n",
    "                    'pref_o_ambitious',\n",
    "                    'pref_o_shared_interests',\n",
    "                    'attractive_o',\n",
    "                    'sinsere_o',\n",
    "                    'intelligence_o',\n",
    "                    'funny_o',\n",
    "                    'ambitous_o',\n",
    "                    'shared_interests_o']"
   ]
  },
  {
   "cell_type": "code",
   "execution_count": null,
   "metadata": {
    "colab": {},
    "colab_type": "code",
    "id": "BO7do5m9lVu7"
   },
   "outputs": [],
   "source": [
    "new_dating = dating.drop(columns=preproccessed_features +\n",
    "                         irrelevant_features+self_interest_feature+partner_features, axis=1)"
   ]
  },
  {
   "cell_type": "markdown",
   "metadata": {
    "colab_type": "text",
    "id": "FIFU-cknNwui"
   },
   "source": [
    "## Data preprocessing pipeline"
   ]
  },
  {
   "cell_type": "code",
   "execution_count": null,
   "metadata": {
    "colab": {},
    "colab_type": "code",
    "id": "FZieDiQQQqjS"
   },
   "outputs": [],
   "source": [
    "class DataPreprocessTransformer(BaseEstimator, TransformerMixin):\n",
    "\n",
    "    def __init__(self, y_feature):\n",
    "        self.y_feature = y_feature\n",
    "        self.features_with_wrong_data_type = []\n",
    "        self.numerical_features = []\n",
    "        self.categorical_features = []\n",
    "        self.features_with_invalid_value = []\n",
    "        self.one_hot_features = []\n",
    "\n",
    "    def getNumericalFeatures(self):\n",
    "        return self.numerical_features\n",
    "\n",
    "    def getCategoricalFeatures(self):\n",
    "        return self.categorical_features\n",
    "\n",
    "    def detect_int_value(self, data):\n",
    "        return np.any(data.astype(str).str.contains('^\\d+$', regex=True))\n",
    "\n",
    "    def detect_float_value(self, data):\n",
    "        return np.any(data.astype(str).str.contains('^-?\\d+\\.\\d+$|^\\d+$', regex=True))\n",
    "\n",
    "    def get_invalid_int_value(self, data):\n",
    "        return ', '.join(data[~data.astype(str).str.contains('^\\d+$', regex=True)]\n",
    "                         .value_counts().index.to_list())\n",
    "\n",
    "    def get_invalid_float_value(self, data):\n",
    "        return ', '.join(data[~data.astype(str).str.contains('^-?\\d+\\.\\d+$|^\\d+$', regex=True)]\n",
    "                         .value_counts().index.to_list())\n",
    "\n",
    "    def drop_rows_with_unknow_values(self, data, feature):\n",
    "        return data[~data[feature].isna()]\n",
    "\n",
    "    def find_invalid_values(self, data):\n",
    "        invalid_values = set()\n",
    "        for feature in data.columns.values:\n",
    "            if data[feature].dtype == 'object':\n",
    "                if self.detect_float_value(data[feature]):\n",
    "                    data[feature] = data[feature].astype(\n",
    "                        'float64', errors='ignore')\n",
    "                    invalid_value = self.get_invalid_float_value(data[feature])\n",
    "                    if invalid_value != '':\n",
    "                        invalid_values.add(invalid_value)\n",
    "                        self.features_with_invalid_value.append(feature)\n",
    "                    self.features_with_wrong_data_type.append(feature)\n",
    "                else:\n",
    "                    self.categorical_features.append(feature)\n",
    "\n",
    "            if data[feature].dtype == 'int64':\n",
    "                invalid_value = self.get_invalid_int_value(data[feature])\n",
    "                if invalid_value != '':\n",
    "                    invalid_values.add(invalid_value)\n",
    "                    self.features_with_invalid_value.append(feature)\n",
    "                data[feature] = data[feature].astype('float64', errors='raise')\n",
    "                self.numerical_features.append(feature)\n",
    "\n",
    "            elif data[feature].dtype == 'float64':\n",
    "                invalid_value = self.get_invalid_float_value(data[feature])\n",
    "                if invalid_value != '':\n",
    "                    invalid_values.add(invalid_value)\n",
    "                    self.features_with_invalid_value.append(feature)\n",
    "                self.numerical_features.append(feature)\n",
    "        return list(invalid_values)\n",
    "\n",
    "    def fit(self, data, y=None):\n",
    "\n",
    "        # Detect any numerical features with 'object' data type and with invalid values\n",
    "        print(f'Invalid values found: {self.find_invalid_values(data)}')\n",
    "\n",
    "        return self\n",
    "\n",
    "    def transform(self, data, y=None):\n",
    "\n",
    "        # Replace '?' value with NaN\n",
    "        data = data.replace('^\\?$', np.NaN, regex=True)\n",
    "\n",
    "        # Change numerical features with 'object' data type and change to 'float64'\n",
    "        for feature in self.features_with_invalid_value:\n",
    "            data[feature] = data[feature].astype('float64', errors='raise')\n",
    "\n",
    "        # Add the fixed features back to numerical features\n",
    "        self.numerical_features += self.features_with_invalid_value\n",
    "\n",
    "        # Remove unwanted quotes: change values like ''Example'' to 'Example'\n",
    "        for feature in self.categorical_features:\n",
    "            for value in data[feature].value_counts().index:\n",
    "                if re.search('^\\'.+\\'$', value.replace(' ', '')):\n",
    "                    data[feature].replace(value, value[1:-1], inplace=True)\n",
    "\n",
    "        # Drop any rows with null values for categorical attribute\n",
    "        for feature in self.categorical_features:\n",
    "            data = self.drop_rows_with_unknow_values(data, feature)\n",
    "\n",
    "        # Generate one-hot-encoded feature's names\n",
    "        for feature in self.categorical_features:\n",
    "            for value in data[feature].value_counts().index:\n",
    "                self.one_hot_features.append(f'{feature}_{value}')\n",
    "\n",
    "        self.numerical_features.remove(self.y_feature)\n",
    "\n",
    "        # Add mean value to the missing values for numerical attribute\n",
    "        numerical_pipeline = make_pipeline(\n",
    "            SimpleImputer(strategy='median'),\n",
    "            RobustScaler(),\n",
    "            MinMaxScaler()\n",
    "        )\n",
    "\n",
    "        # One Hot Encoder using pd.get_dummies\n",
    "        categorical_pipleline = make_pipeline(\n",
    "            FunctionTransformer(lambda data: pd.get_dummies(\n",
    "                data, columns=self.categorical_features, prefix=self.categorical_features))\n",
    "        )\n",
    "\n",
    "        data_preprocess_pipeline = make_column_transformer(\n",
    "            (numerical_pipeline, self.numerical_features),\n",
    "            (categorical_pipleline, self.categorical_features), remainder='passthrough')\n",
    "\n",
    "        data = pd.DataFrame(data_preprocess_pipeline.fit_transform(\n",
    "            data), columns=self.numerical_features+self.one_hot_features+[self.y_feature])\n",
    "\n",
    "        return data"
   ]
  },
  {
   "cell_type": "markdown",
   "metadata": {
    "colab_type": "text",
    "id": "KXpQiDgQbbxS"
   },
   "source": [
    "## Split into training set and test set"
   ]
  },
  {
   "cell_type": "code",
   "execution_count": null,
   "metadata": {
    "colab": {},
    "colab_type": "code",
    "id": "DYyuvkzElwR6"
   },
   "outputs": [],
   "source": [
    "def split_data(X, y, n_splits=1, test_size=0.2, random_state=42):\n",
    "\n",
    "    # split using stratified sampling\n",
    "    split = StratifiedShuffleSplit(\n",
    "        n_splits=n_splits, test_size=test_size, random_state=random_state)\n",
    "    train_index, test_index = next(split.split(X, y))\n",
    "\n",
    "    X_train, X_test, y_train, y_test = X.iloc[train_index], X.iloc[test_index], y[train_index], y[test_index]\n",
    "\n",
    "    return X_train, X_test, y_train, y_test"
   ]
  },
  {
   "cell_type": "code",
   "execution_count": null,
   "metadata": {
    "colab": {
     "base_uri": "https://localhost:8080/",
     "height": 87
    },
    "colab_type": "code",
    "executionInfo": {
     "elapsed": 12989,
     "status": "ok",
     "timestamp": 1599298630931,
     "user": {
      "displayName": "PolarBear Yap",
      "photoUrl": "https://lh3.googleusercontent.com/a-/AOh14Gh6xY6wDRASo9ifgNeDcwMeBd3TCQFVGw14HLGtCg=s64",
      "userId": "07391035732959922581"
     },
     "user_tz": -480
    },
    "id": "VBvrjgfoAYLs",
    "outputId": "046c0b86-9bad-4917-a3ab-d52680ff7dbe"
   },
   "outputs": [],
   "source": [
    "Y_FEATURE = 'match'\n",
    "data_preprocess_pipeline = DataPreprocessTransformer(Y_FEATURE)\n",
    "\n",
    "dating_prepared = data_preprocess_pipeline.fit_transform(new_dating.copy())\n",
    "\n",
    "X_train, X_test, y_train, y_test = split_data(dating_prepared.drop(\n",
    "    Y_FEATURE, axis=1), dating_prepared[Y_FEATURE], test_size=0.1)\n",
    "\n",
    "print(f'Traning dataset shape:')\n",
    "print(f'self X   : {X_train.shape}')\n",
    "print(f'self y   : {y_train.shape}')"
   ]
  },
  {
   "cell_type": "markdown",
   "metadata": {
    "colab_type": "text",
    "id": "kOMTaVMTbtLM"
   },
   "source": [
    "## Transformed features"
   ]
  },
  {
   "cell_type": "code",
   "execution_count": null,
   "metadata": {
    "colab": {
     "base_uri": "https://localhost:8080/",
     "height": 478
    },
    "colab_type": "code",
    "executionInfo": {
     "elapsed": 12951,
     "status": "ok",
     "timestamp": 1599298630934,
     "user": {
      "displayName": "PolarBear Yap",
      "photoUrl": "https://lh3.googleusercontent.com/a-/AOh14Gh6xY6wDRASo9ifgNeDcwMeBd3TCQFVGw14HLGtCg=s64",
      "userId": "07391035732959922581"
     },
     "user_tz": -480
    },
    "id": "OYGjls-QnHn1",
    "outputId": "ec2774e6-e683-4707-c20c-75419bd56196"
   },
   "outputs": [],
   "source": [
    "data_preprocess_pipeline.getNumericalFeatures()"
   ]
  },
  {
   "cell_type": "code",
   "execution_count": null,
   "metadata": {
    "colab": {
     "base_uri": "https://localhost:8080/",
     "height": 34
    },
    "colab_type": "code",
    "executionInfo": {
     "elapsed": 12922,
     "status": "ok",
     "timestamp": 1599298630935,
     "user": {
      "displayName": "PolarBear Yap",
      "photoUrl": "https://lh3.googleusercontent.com/a-/AOh14Gh6xY6wDRASo9ifgNeDcwMeBd3TCQFVGw14HLGtCg=s64",
      "userId": "07391035732959922581"
     },
     "user_tz": -480
    },
    "id": "KVV4_XnXnWDO",
    "outputId": "770960fc-e468-4fe2-e782-faae02faf157"
   },
   "outputs": [],
   "source": [
    "data_preprocess_pipeline.getCategoricalFeatures()"
   ]
  },
  {
   "cell_type": "code",
   "execution_count": null,
   "metadata": {
    "colab": {
     "base_uri": "https://localhost:8080/",
     "height": 131
    },
    "colab_type": "code",
    "executionInfo": {
     "elapsed": 12890,
     "status": "ok",
     "timestamp": 1599298630936,
     "user": {
      "displayName": "PolarBear Yap",
      "photoUrl": "https://lh3.googleusercontent.com/a-/AOh14Gh6xY6wDRASo9ifgNeDcwMeBd3TCQFVGw14HLGtCg=s64",
      "userId": "07391035732959922581"
     },
     "user_tz": -480
    },
    "id": "tpt3fmq3BX-S",
    "outputId": "cc96a3b2-32fa-4f02-de57-5cb41c4cc4b1"
   },
   "outputs": [],
   "source": [
    "dating_prepared.head(1)"
   ]
  },
  {
   "cell_type": "markdown",
   "metadata": {
    "colab_type": "text",
    "id": "A0MuOGICHieJ"
   },
   "source": [
    "# Prepare Classifiers"
   ]
  },
  {
   "cell_type": "markdown",
   "metadata": {
    "colab_type": "text",
    "id": "m1nbVJJTcJmg"
   },
   "source": [
    "List of classifiers chosen for model selection\n",
    "- Logistic Regression\n",
    "- Decision tree\n",
    "- Support Vector\n",
    "- K neighbors\n",
    "- Complement Naive Bayes\n",
    "- Quadratic Discriminant Analysis\n",
    "- Ensemble Classifiers\n",
    "    - Random forest\n",
    "    - Extra Trees Classifier\n",
    "    - AdaBoost Classifier"
   ]
  },
  {
   "cell_type": "code",
   "execution_count": null,
   "metadata": {
    "colab": {},
    "colab_type": "code",
    "id": "n7wdBK88HmMW"
   },
   "outputs": [],
   "source": [
    "RANDOM_SEED = 42\n",
    "\n",
    "short_names = ['log_reg', 'decision_tree', 'rand_forest', 'extra_tree',\n",
    "               'ada_boost_cf', 'k_neighbors', 'c_naive_bayes',\n",
    "               'quadratic_dis_analysis', 'support_vector']\n",
    "\n",
    "names = ['Logistic Regression', 'Decision tree Classifier', 'Random forest Classifier',\n",
    "         'Extra Tree Classifier', 'AdaBoost Classifier', 'K Neighbors Classifier',\n",
    "         'Complement Naive Bayes', 'Quadratic Discriminant Analysis', 'C-Support Vector Classifier']\n",
    "\n",
    "functions = [\n",
    "    LogisticRegression(\n",
    "        penalty='none', random_state=RANDOM_SEED, max_iter=1000),\n",
    "    DecisionTreeClassifier(random_state=RANDOM_SEED),\n",
    "    RandomForestClassifier(random_state=RANDOM_SEED),\n",
    "    ExtraTreesClassifier(random_state=RANDOM_SEED),\n",
    "    AdaBoostClassifier(random_state=RANDOM_SEED),\n",
    "    KNeighborsClassifier(),\n",
    "    ComplementNB(),\n",
    "    QuadraticDiscriminantAnalysis(),\n",
    "    SVC(random_state=RANDOM_SEED, probability=True)\n",
    "]\n",
    "\n",
    "classifiers_idx = {}\n",
    "classifiers = {}\n",
    "\n",
    "# Zip all classfiers together into a dictionary for easy access\n",
    "for idx, s_name, name, func in zip(range(len(names)), short_names, names, functions):\n",
    "    classifiers_idx[idx] = {'name': name, 'func': func}\n",
    "    classifiers[s_name] = {'name': name, 'func': func}"
   ]
  },
  {
   "cell_type": "markdown",
   "metadata": {
    "colab_type": "text",
    "id": "y1EG8yIk4m0o"
   },
   "source": [
    "# Model Selection"
   ]
  },
  {
   "cell_type": "markdown",
   "metadata": {
    "colab_type": "text",
    "id": "1OI-tv4o45AS"
   },
   "source": [
    "## Phase 1: Performance Score"
   ]
  },
  {
   "cell_type": "code",
   "execution_count": null,
   "metadata": {
    "colab": {},
    "colab_type": "code",
    "id": "lILuUaOwLwjj"
   },
   "outputs": [],
   "source": [
    "def get_models_performace(classifiers, X, y):\n",
    "    train_results = {'classifier_name': [], 'duration': [],\n",
    "                     'precision': [], 'recall': [], 'f1_score': [], 'auc_score': []}\n",
    "    test_results = {'classifier_name': [], 'duration': [],\n",
    "                    'precision': [], 'recall': [], 'f1_score': [], 'auc_score': []}\n",
    "    for idx in range(len(classifiers)):\n",
    "        cf_name = classifiers[idx]['name']\n",
    "        print(f'{cf_name} has started...')\n",
    "        start = time.time()\n",
    "        cv_scores = cross_validate(classifiers[idx]['func'], X, y, scoring=[\n",
    "                                   'f1', 'roc_auc', 'precision', 'recall'], cv=5, return_train_score=True)\n",
    "        end = time.time()\n",
    "        duration = end - start\n",
    "        print(f'{cf_name} ended in {duration} seconds.\\n')\n",
    "        updateRecord(train_results, cv_scores, 'train', cf_name, duration)\n",
    "        updateRecord(test_results, cv_scores, 'test', cf_name, duration)\n",
    "    return pd.DataFrame(train_results), pd.DataFrame(test_results)\n",
    "\n",
    "\n",
    "def updateRecord(df, scores, key_name, classifier_name, duration):\n",
    "    df['classifier_name'].append(classifier_name)\n",
    "    df['duration'].append(duration)\n",
    "    df['f1_score'].append(np.mean(scores[f'{key_name}_f1']))\n",
    "    df['auc_score'].append(np.mean(scores[f'{key_name}_roc_auc']))\n",
    "    df['precision'].append(np.mean(scores[f'{key_name}_precision']))\n",
    "    df['recall'].append(np.mean(scores[f'{key_name}_recall']))"
   ]
  },
  {
   "cell_type": "markdown",
   "metadata": {},
   "source": [
    "**Note**: Results of the models is loaded from the pickle file because it consumes at most **3 minutes** to run. Please run the code below if you insist."
   ]
  },
  {
   "cell_type": "markdown",
   "metadata": {
    "colab": {
     "base_uri": "https://localhost:8080/",
     "height": 674
    },
    "colab_type": "code",
    "executionInfo": {
     "elapsed": 68004,
     "status": "ok",
     "timestamp": 1599298686108,
     "user": {
      "displayName": "PolarBear Yap",
      "photoUrl": "https://lh3.googleusercontent.com/a-/AOh14Gh6xY6wDRASo9ifgNeDcwMeBd3TCQFVGw14HLGtCg=s64",
      "userId": "07391035732959922581"
     },
     "user_tz": -480
    },
    "id": "UPoW6RnIMrxT",
    "outputId": "9fb15705-323b-41cb-f352-28a4d2dbcaba"
   },
   "source": [
    "```python\n",
    "train_results, test_results = get_models_performace(classifiers_idx, X_train, y_train)\n",
    "```"
   ]
  },
  {
   "cell_type": "markdown",
   "metadata": {},
   "source": [
    "Load train_results, train_results from model_performance.pickle"
   ]
  },
  {
   "cell_type": "code",
   "execution_count": null,
   "metadata": {},
   "outputs": [],
   "source": [
    "with open('../../pickles/model_performance.pickle', 'rb') as file:\n",
    "    train_results = pickle.load(file)\n",
    "    test_results = pickle.load(file)"
   ]
  },
  {
   "cell_type": "code",
   "execution_count": null,
   "metadata": {
    "colab": {
     "base_uri": "https://localhost:8080/",
     "height": 317
    },
    "colab_type": "code",
    "executionInfo": {
     "elapsed": 67973,
     "status": "ok",
     "timestamp": 1599298686110,
     "user": {
      "displayName": "PolarBear Yap",
      "photoUrl": "https://lh3.googleusercontent.com/a-/AOh14Gh6xY6wDRASo9ifgNeDcwMeBd3TCQFVGw14HLGtCg=s64",
      "userId": "07391035732959922581"
     },
     "user_tz": -480
    },
    "id": "hOe2AmT20Mix",
    "outputId": "9d66b4c9-be00-4627-f70e-caad8deb3429"
   },
   "outputs": [],
   "source": [
    "train_results"
   ]
  },
  {
   "cell_type": "code",
   "execution_count": null,
   "metadata": {
    "colab": {
     "base_uri": "https://localhost:8080/",
     "height": 317
    },
    "colab_type": "code",
    "executionInfo": {
     "elapsed": 67948,
     "status": "ok",
     "timestamp": 1599298686117,
     "user": {
      "displayName": "PolarBear Yap",
      "photoUrl": "https://lh3.googleusercontent.com/a-/AOh14Gh6xY6wDRASo9ifgNeDcwMeBd3TCQFVGw14HLGtCg=s64",
      "userId": "07391035732959922581"
     },
     "user_tz": -480
    },
    "id": "aP9BGPLL3KFV",
    "outputId": "6af424e6-5aff-41b2-c68d-750db3cc8ac6"
   },
   "outputs": [],
   "source": [
    "test_results"
   ]
  },
  {
   "cell_type": "code",
   "execution_count": null,
   "metadata": {
    "colab": {
     "base_uri": "https://localhost:8080/",
     "height": 317
    },
    "colab_type": "code",
    "executionInfo": {
     "elapsed": 67920,
     "status": "ok",
     "timestamp": 1599298686118,
     "user": {
      "displayName": "PolarBear Yap",
      "photoUrl": "https://lh3.googleusercontent.com/a-/AOh14Gh6xY6wDRASo9ifgNeDcwMeBd3TCQFVGw14HLGtCg=s64",
      "userId": "07391035732959922581"
     },
     "user_tz": -480
    },
    "id": "oh6rOPUTdaJB",
    "outputId": "1066ea00-7310-42c6-bea5-e1eebe8d3dae"
   },
   "outputs": [],
   "source": [
    "train_results[['classifier_name', 'precision', 'recall', 'f1_score',\n",
    "               'auc_score']].sort_values(['recall', 'auc_score'], ascending=False)"
   ]
  },
  {
   "cell_type": "code",
   "execution_count": null,
   "metadata": {
    "colab": {
     "base_uri": "https://localhost:8080/",
     "height": 317
    },
    "colab_type": "code",
    "executionInfo": {
     "elapsed": 67886,
     "status": "ok",
     "timestamp": 1599298686120,
     "user": {
      "displayName": "PolarBear Yap",
      "photoUrl": "https://lh3.googleusercontent.com/a-/AOh14Gh6xY6wDRASo9ifgNeDcwMeBd3TCQFVGw14HLGtCg=s64",
      "userId": "07391035732959922581"
     },
     "user_tz": -480
    },
    "id": "v5FT1o47FBtU",
    "outputId": "0d7b3122-e555-48bb-b661-08ba44ef6a85"
   },
   "outputs": [],
   "source": [
    "test_results[['classifier_name', 'precision', 'recall', 'f1_score',\n",
    "              'auc_score']].sort_values(['recall', 'auc_score'], ascending=False)"
   ]
  },
  {
   "cell_type": "markdown",
   "metadata": {
    "colab_type": "text",
    "id": "N7vZuUut4pIH"
   },
   "source": [
    "## Phase 2: Precision-Recall Curve"
   ]
  },
  {
   "cell_type": "code",
   "execution_count": null,
   "metadata": {
    "colab": {},
    "colab_type": "code",
    "id": "cPcw4PTR1T8t"
   },
   "outputs": [],
   "source": [
    "def plot_precision_vs_recall(classifier, cf_name, X_train, y_train, ax, method, label=False):\n",
    "    y_scores_cv = cross_val_predict(\n",
    "        classifier, X_train, y_train, cv=3, method=method, n_jobs=-1)\n",
    "    if y_scores_cv.ndim > 1:\n",
    "        y_scores_cv = y_scores_cv[:, -1]\n",
    "    precisions, recalls, thresholds = precision_recall_curve(\n",
    "        y_train, y_scores_cv)\n",
    "    if label:\n",
    "        label_name = cf_name\n",
    "    else:\n",
    "        label_name = None\n",
    "    ax.plot(recalls, precisions, label=label_name)\n",
    "    plot_precision_recall_curve\n",
    "    ax.set(xlabel='recall', ylabel='precision',\n",
    "           title=f'PR Curve for {cf_name}')\n",
    "    ax.title.set_fontsize(16)\n",
    "    ax.grid()\n",
    "\n",
    "    return precisions, recalls, thresholds"
   ]
  },
  {
   "cell_type": "code",
   "execution_count": null,
   "metadata": {
    "colab": {
     "base_uri": "https://localhost:8080/",
     "height": 980
    },
    "colab_type": "code",
    "executionInfo": {
     "elapsed": 86852,
     "status": "ok",
     "timestamp": 1599298705131,
     "user": {
      "displayName": "PolarBear Yap",
      "photoUrl": "https://lh3.googleusercontent.com/a-/AOh14Gh6xY6wDRASo9ifgNeDcwMeBd3TCQFVGw14HLGtCg=s64",
      "userId": "07391035732959922581"
     },
     "user_tz": -480
    },
    "id": "K4HL48gePj-7",
    "outputId": "a103b54b-2118-44ed-d1e4-900d4dc29f7b"
   },
   "outputs": [],
   "source": [
    "fig, axs = plt.subplots(3, 3)\n",
    "fig.set_size_inches(15, 12)\n",
    "\n",
    "indexes = [0, 1, 2]\n",
    "indexes = list(product(indexes, indexes))\n",
    "\n",
    "for index, classifier in zip(indexes, classifiers.values()):\n",
    "    method = 'predict_proba'\n",
    "    # if (classifier['name'] == classifiers['support_vector']['name']):\n",
    "    #     method = 'decision_function'\n",
    "    plot_precision_vs_recall(\n",
    "        classifier['func'], classifier['name'], X_train, y_train, axs[index[0]][index[1]], method)\n",
    "\n",
    "fig.tight_layout()"
   ]
  },
  {
   "cell_type": "code",
   "execution_count": null,
   "metadata": {
    "colab": {},
    "colab_type": "code",
    "id": "AF2eS1BD5pFp"
   },
   "outputs": [],
   "source": [
    "# Discard Complement Naive Bayes and Quadratic Discriminant Analysis since AUC for PR curve < 0.5\n",
    "del classifiers['c_naive_bayes'], classifiers['quadratic_dis_analysis']"
   ]
  },
  {
   "cell_type": "code",
   "execution_count": null,
   "metadata": {
    "colab": {
     "base_uri": "https://localhost:8080/",
     "height": 591
    },
    "colab_type": "code",
    "executionInfo": {
     "elapsed": 100676,
     "status": "ok",
     "timestamp": 1599298719008,
     "user": {
      "displayName": "PolarBear Yap",
      "photoUrl": "https://lh3.googleusercontent.com/a-/AOh14Gh6xY6wDRASo9ifgNeDcwMeBd3TCQFVGw14HLGtCg=s64",
      "userId": "07391035732959922581"
     },
     "user_tz": -480
    },
    "id": "a7YG3sMCWL8Z",
    "outputId": "8d9133e7-0b7f-4b17-9b62-14dc892c3318"
   },
   "outputs": [],
   "source": [
    "fig, ax = plt.subplots()\n",
    "fig.set_size_inches(12, 8)\n",
    "\n",
    "# AdaBoost classifer and Extra Tree classifier is put aside,\n",
    "# because random forest classifier already represents ensemble methods\n",
    "generic_cf_key = ['log_reg', 'decision_tree',\n",
    "                  'rand_forest', 'k_neighbors', 'support_vector']\n",
    "generic_classifier = [classifiers[key] for key in generic_cf_key]\n",
    "\n",
    "for classifier in generic_classifier:\n",
    "    method = 'predict_proba'\n",
    "    # if (classifier['name'] == classifiers['support_vector']['name']):\n",
    "    #     method = 'decision_function'\n",
    "    plot_precision_vs_recall(\n",
    "        classifier['func'], classifier['name'], X_train, y_train, ax, method, label=True)\n",
    "\n",
    "ax.set(xlabel='recall', ylabel='precision',\n",
    "       title=f'PR Curve for Generic Models')\n",
    "ax.title.set_fontsize(20)\n",
    "fig.legend(loc='upper right')\n",
    "fig.tight_layout()"
   ]
  },
  {
   "cell_type": "code",
   "execution_count": null,
   "metadata": {
    "colab": {
     "base_uri": "https://localhost:8080/",
     "height": 591
    },
    "colab_type": "code",
    "executionInfo": {
     "elapsed": 117423,
     "status": "ok",
     "timestamp": 1599298735784,
     "user": {
      "displayName": "PolarBear Yap",
      "photoUrl": "https://lh3.googleusercontent.com/a-/AOh14Gh6xY6wDRASo9ifgNeDcwMeBd3TCQFVGw14HLGtCg=s64",
      "userId": "07391035732959922581"
     },
     "user_tz": -480
    },
    "id": "84tRmihWSWVp",
    "outputId": "2c24142c-ac37-4ef1-89e7-d22773e0c6e1"
   },
   "outputs": [],
   "source": [
    "fig, ax = plt.subplots()\n",
    "fig.set_size_inches(12, 8)\n",
    "\n",
    "for classifier in classifiers.values():\n",
    "    method = 'predict_proba'\n",
    "    # if (classifier['name'] == classifiers['support_vector']['name']):\n",
    "    #     method = 'decision_function'\n",
    "    plot_precision_vs_recall(\n",
    "        classifier['func'], classifier['name'], X_train, y_train, ax, method, label=True)\n",
    "\n",
    "ax.set(xlabel='recall', ylabel='precision', title=f'PR Curve for All Models')\n",
    "ax.title.set_fontsize(20)\n",
    "fig.legend(loc='upper right')\n",
    "fig.tight_layout()"
   ]
  },
  {
   "cell_type": "markdown",
   "metadata": {
    "colab_type": "text",
    "id": "jEDmmU-k4gFd"
   },
   "source": [
    "## Phase 3: ROC Curve"
   ]
  },
  {
   "cell_type": "code",
   "execution_count": null,
   "metadata": {
    "colab": {
     "base_uri": "https://localhost:8080/",
     "height": 513
    },
    "colab_type": "code",
    "executionInfo": {
     "elapsed": 128923,
     "status": "ok",
     "timestamp": 1599298747311,
     "user": {
      "displayName": "PolarBear Yap",
      "photoUrl": "https://lh3.googleusercontent.com/a-/AOh14Gh6xY6wDRASo9ifgNeDcwMeBd3TCQFVGw14HLGtCg=s64",
      "userId": "07391035732959922581"
     },
     "user_tz": -480
    },
    "id": "FAS988yNNFp_",
    "outputId": "91ba4b24-6479-4efb-f59a-6cd9c564791d"
   },
   "outputs": [],
   "source": [
    "fig, ax = plt.subplots()\n",
    "fig.set_size_inches(15, 8)\n",
    "roc_scores = []\n",
    "\n",
    "for classifier in classifiers.values():\n",
    "\n",
    "    new_cf = clone(classifier['func'])\n",
    "    new_cf.fit(X_train, y_train)\n",
    "\n",
    "    method = 'predict_proba'\n",
    "    # if (classifier['name'] == classifiers['support_vector']['name']):\n",
    "    #     method = 'decision_function'\n",
    "\n",
    "    # Ensure the y score is accurate using cross validation\n",
    "    # Must use trained model\n",
    "    y_score_cv = cross_val_predict(new_cf, X_test, y_test, cv=3, method=method)\n",
    "\n",
    "    if y_score_cv.ndim > 1:\n",
    "        y_score_cv = y_score_cv[:, -1]\n",
    "\n",
    "    fpr, tpr, threshold = roc_curve(y_test, y_score_cv)\n",
    "    roc_auc = auc(fpr, tpr)\n",
    "\n",
    "    graph = RocCurveDisplay(fpr=fpr, tpr=tpr, roc_auc=roc_auc,\n",
    "                            estimator_name=classifier['name'])\n",
    "    graph.plot(ax=ax)\n",
    "\n",
    "    roc_scores.append({'name': classifier['name'], 'auc_score': roc_auc})\n",
    "\n",
    "ax.set(title=\"Receiver operating characteristic with cross validation\")\n",
    "ax.legend(loc=\"lower right\")\n",
    "plt.show()"
   ]
  },
  {
   "cell_type": "code",
   "execution_count": null,
   "metadata": {
    "colab": {
     "base_uri": "https://localhost:8080/",
     "height": 257
    },
    "colab_type": "code",
    "executionInfo": {
     "elapsed": 128898,
     "status": "ok",
     "timestamp": 1599298747313,
     "user": {
      "displayName": "PolarBear Yap",
      "photoUrl": "https://lh3.googleusercontent.com/a-/AOh14Gh6xY6wDRASo9ifgNeDcwMeBd3TCQFVGw14HLGtCg=s64",
      "userId": "07391035732959922581"
     },
     "user_tz": -480
    },
    "id": "twUu_4KkU0p_",
    "outputId": "44b028db-aa5c-4471-8694-c87f0ffa4175"
   },
   "outputs": [],
   "source": [
    "roc_scores = pd.DataFrame(roc_scores)\n",
    "roc_scores.sort_values('auc_score', ascending=False)"
   ]
  },
  {
   "cell_type": "markdown",
   "metadata": {
    "colab_type": "text",
    "id": "IJrbS4pQVJH7"
   },
   "source": [
    "## Phase 4: Final Selection"
   ]
  },
  {
   "cell_type": "markdown",
   "metadata": {
    "colab_type": "text",
    "id": "HsitEAc8VP3U"
   },
   "source": [
    "**Extra Trees Classifiers**, **Logistic Regression**, **Support Vector** are chosen since these models are top 4 highest in AUC score in ROC Curve.\n",
    "\n",
    "**Random Forest Classifier** are discarded since it is also an ensemble method which performs slightly worse than **Extra Trees Classifiers**."
   ]
  },
  {
   "cell_type": "code",
   "execution_count": null,
   "metadata": {
    "colab": {},
    "colab_type": "code",
    "id": "11C2RaonLrIQ"
   },
   "outputs": [],
   "source": [
    "del classifiers['decision_tree'], classifiers['rand_forest'], classifiers['ada_boost_cf'], classifiers['k_neighbors']"
   ]
  },
  {
   "cell_type": "code",
   "execution_count": null,
   "metadata": {
    "colab": {
     "base_uri": "https://localhost:8080/",
     "height": 87
    },
    "colab_type": "code",
    "executionInfo": {
     "elapsed": 128861,
     "status": "ok",
     "timestamp": 1599298747317,
     "user": {
      "displayName": "PolarBear Yap",
      "photoUrl": "https://lh3.googleusercontent.com/a-/AOh14Gh6xY6wDRASo9ifgNeDcwMeBd3TCQFVGw14HLGtCg=s64",
      "userId": "07391035732959922581"
     },
     "user_tz": -480
    },
    "id": "_3iW6QhNVNrK",
    "outputId": "056c935c-70a4-4db8-ac78-cac40a7d0ece"
   },
   "outputs": [],
   "source": [
    "print('List of Choosen Models')\n",
    "\n",
    "for idx, classifier in enumerate(classifiers.values()):\n",
    "    print(f'{idx+1} - {classifier[\"name\"]}')"
   ]
  },
  {
   "cell_type": "markdown",
   "metadata": {
    "colab_type": "text",
    "id": "BDPxcecd5S8b"
   },
   "source": [
    "# Model Tuning\n",
    "\n"
   ]
  },
  {
   "cell_type": "markdown",
   "metadata": {
    "colab_type": "text",
    "id": "cXnSWPjYypY8"
   },
   "source": [
    "## Custom Functions"
   ]
  },
  {
   "cell_type": "code",
   "execution_count": null,
   "metadata": {
    "colab": {},
    "colab_type": "code",
    "id": "M_84-A1CxoT1"
   },
   "outputs": [],
   "source": [
    "def plot_precision_vs_recall2(model, model_name, X, y, threshold, ax, method='predict_proba'):\n",
    "\n",
    "    precisions, recalls, thresholds = plot_precision_vs_recall(\n",
    "        model, model_name, X, y, ax, method)\n",
    "\n",
    "    # the position of first recall value is >= threshold\n",
    "    best_idx = np.argmin(recalls >= threshold)\n",
    "    selected_threshold = thresholds[best_idx]\n",
    "    selected_precision = precisions[best_idx]\n",
    "    selected_recall = recalls[best_idx]\n",
    "\n",
    "    ax.set(title='Precision-Recall Graph')\n",
    "    ax.title.set_fontsize(20)\n",
    "    ax.plot([selected_recall, selected_recall], [0, selected_precision], \"r:\")\n",
    "    ax.plot([0, selected_recall], [\n",
    "            selected_precision, selected_precision], \"r:\")\n",
    "    ax.plot([selected_recall], [selected_precision], \"ro\")\n",
    "    ax.set_xlim(0, 1)\n",
    "    ax.set_ylim(0, 1.2)\n",
    "\n",
    "    # Annotate the best score for that scorer\n",
    "    x_coord = recalls[best_idx]\n",
    "    y_coord = precisions[best_idx]\n",
    "    ax.annotate(f'({x_coord:.2f}, {y_coord:.2f})',\n",
    "                (x_coord + 0.010, y_coord + 0.010))\n",
    "\n",
    "    print(\"Selected Threshold = {:f}\".format(selected_threshold))\n",
    "    print(\"Selected Precision = {:.2f}\".format(selected_precision))\n",
    "    print(\"Selected Recall    = {:.2f}\".format(selected_recall))\n",
    "\n",
    "    return precisions, recalls, thresholds"
   ]
  },
  {
   "cell_type": "code",
   "execution_count": null,
   "metadata": {
    "colab": {},
    "colab_type": "code",
    "id": "vghH7T_Txv6f"
   },
   "outputs": [],
   "source": [
    "def plot_validation_curve(classifier, X, y, param_name, param_range, fig, ax, cv=3, scoring='roc_auc'):\n",
    "    train_score, test_score = validation_curve(classifier, X, y, param_name=param_name,\n",
    "                                               param_range=param_range, cv=cv, scoring=scoring,\n",
    "                                               verbose=1, n_jobs=-1)\n",
    "    avg_train_score = train_score.mean(axis=1)\n",
    "    avg_test_score = test_score.mean(axis=1)\n",
    "    plt.plot(param_range, avg_train_score, label=\"Training Score\")\n",
    "    plt.plot(param_range, avg_test_score, label=\"Cross-Validation Score\")\n",
    "    ax.set(xlabel=param_name, ylabel=scoring,\n",
    "           title=f'Cross Validation Curve {scoring} against {param_name}')\n",
    "    ax.legend(loc=\"best\")\n",
    "    ax.grid()\n",
    "    fig.set_size_inches(10, 8)\n",
    "    plt.show()\n",
    "    max_val_index = np.argsort(avg_test_score)[-1]\n",
    "    print(\n",
    "        f'{param_name} with value {param_range[max_val_index]} generates the highest CV score: {avg_test_score[max_val_index]:.2f}')"
   ]
  },
  {
   "cell_type": "code",
   "execution_count": null,
   "metadata": {},
   "outputs": [],
   "source": [
    "def plot_validation_curve_fast(train_score, test_score, param_name, param_range, fig, ax, scoring='roc_auc'):\n",
    "    avg_train_score = train_score.mean(axis=1)\n",
    "    avg_test_score = test_score.mean(axis=1)\n",
    "    plt.plot(param_range, avg_train_score, label=\"Training Score\")\n",
    "    plt.plot(param_range, avg_test_score, label=\"Cross-Validation Score\")\n",
    "    ax.set(xlabel=param_name, ylabel=scoring,\n",
    "           title=f'Cross Validation Curve {scoring} against {param_name}')\n",
    "    ax.legend(loc=\"best\")\n",
    "    ax.grid()\n",
    "    fig.set_size_inches(10, 8)\n",
    "    plt.show()\n",
    "    max_val_index = np.argsort(avg_test_score)[-1]\n",
    "    print(\n",
    "        f'{param_name} with value {param_range[max_val_index]} generates the highest CV score: {avg_test_score[max_val_index]:.2f}')"
   ]
  },
  {
   "cell_type": "code",
   "execution_count": null,
   "metadata": {
    "colab": {},
    "colab_type": "code",
    "id": "yL8aBKCQDUcU"
   },
   "outputs": [],
   "source": [
    "def display_confusion_matrix_train(X, y, model, threshold, ax, title):\n",
    "\n",
    "    y_pred = cross_val_predict(\n",
    "        model, X, y, cv=3, method='predict_proba', n_jobs=-1)\n",
    "\n",
    "    def decision_function(y_prob):\n",
    "        y = np.zeros(len(y_prob), dtype=float)\n",
    "        y[y_prob >= threshold] = 1.0\n",
    "        return y\n",
    "\n",
    "    y_pred = decision_function(y_pred[:, -1])\n",
    "\n",
    "    cm = confusion_matrix(y, y_pred, normalize='true')\n",
    "\n",
    "    ConfusionMatrixDisplay(confusion_matrix=cm, display_labels=['Not Match', 'Match']).plot(\n",
    "        cmap=plt.cm.Reds, ax=ax\n",
    "    )\n",
    "\n",
    "    ax.set(title=f'Confusion matrix - {title}')\n",
    "    ax.title.set_fontsize(20)"
   ]
  },
  {
   "cell_type": "code",
   "execution_count": null,
   "metadata": {
    "colab": {},
    "colab_type": "code",
    "id": "IMQzmJUzSG2R"
   },
   "outputs": [],
   "source": [
    "def display_confusion_matrix_test(X, y, fitted_model, threshold, ax, title):\n",
    "\n",
    "    y_pred = fitted_model.predict_proba(X)\n",
    "\n",
    "    def decision_function(y_prob):\n",
    "        y = np.zeros(len(y_prob), dtype=float)\n",
    "        y[y_prob >= threshold] = 1.0\n",
    "        return y\n",
    "\n",
    "    y_pred = decision_function(y_pred[:, -1])\n",
    "\n",
    "    cm = confusion_matrix(y, y_pred, normalize='true')\n",
    "\n",
    "    ConfusionMatrixDisplay(confusion_matrix=cm, display_labels=['Not Match', 'Match']).plot(\n",
    "        cmap=plt.cm.Reds, ax=ax\n",
    "    )\n",
    "\n",
    "    ax.set(title=f'Confusion matrix - {title}')\n",
    "    ax.title.set_fontsize(20)"
   ]
  },
  {
   "cell_type": "markdown",
   "metadata": {
    "colab_type": "text",
    "id": "LD6LCuKCdu3t"
   },
   "source": [
    "## Model 1: Logistic Regression"
   ]
  },
  {
   "cell_type": "markdown",
   "metadata": {
    "colab_type": "text",
    "id": "b1OU3hsclsZd"
   },
   "source": [
    "### Pre-Evaluation"
   ]
  },
  {
   "cell_type": "code",
   "execution_count": null,
   "metadata": {
    "colab": {
     "base_uri": "https://localhost:8080/",
     "height": 105
    },
    "colab_type": "code",
    "executionInfo": {
     "elapsed": 128759,
     "status": "ok",
     "timestamp": 1599298747327,
     "user": {
      "displayName": "PolarBear Yap",
      "photoUrl": "https://lh3.googleusercontent.com/a-/AOh14Gh6xY6wDRASo9ifgNeDcwMeBd3TCQFVGw14HLGtCg=s64",
      "userId": "07391035732959922581"
     },
     "user_tz": -480
    },
    "id": "gurZh7h1f_b1",
    "outputId": "93597ef3-2ea4-44f4-d871-3f2480cfec01"
   },
   "outputs": [],
   "source": [
    "# Logistics Regression with Default Settings\n",
    "log_reg = LogisticRegression(penalty='elasticnet', random_state=RANDOM_SEED,\n",
    "                             solver='saga', max_iter=3000, l1_ratio=0.5, C=1.0)\n",
    "log_reg.fit(X_train, y_train)"
   ]
  },
  {
   "cell_type": "code",
   "execution_count": null,
   "metadata": {
    "colab": {
     "base_uri": "https://localhost:8080/",
     "height": 356
    },
    "colab_type": "code",
    "executionInfo": {
     "elapsed": 131058,
     "status": "ok",
     "timestamp": 1599298749659,
     "user": {
      "displayName": "PolarBear Yap",
      "photoUrl": "https://lh3.googleusercontent.com/a-/AOh14Gh6xY6wDRASo9ifgNeDcwMeBd3TCQFVGw14HLGtCg=s64",
      "userId": "07391035732959922581"
     },
     "user_tz": -480
    },
    "id": "AYCpOYu2lztt",
    "outputId": "7302a673-1edd-4874-d8d2-b3594a7c5add"
   },
   "outputs": [],
   "source": [
    "fig, ax = plt.subplots()\n",
    "fig.set_size_inches(6, 5)\n",
    "\n",
    "display_confusion_matrix_train(\n",
    "    X_train, y_train, log_reg, 0.5, ax, 'Logistic Regression')"
   ]
  },
  {
   "cell_type": "markdown",
   "metadata": {
    "colab_type": "text",
    "id": "lKeoEUGP9zpV"
   },
   "source": [
    "### Grid search"
   ]
  },
  {
   "cell_type": "code",
   "execution_count": null,
   "metadata": {
    "colab": {},
    "colab_type": "code",
    "id": "km_gkJjp0ltC"
   },
   "outputs": [],
   "source": [
    "log_reg_param_grid = {\n",
    "    'l1_ratio': np.linspace(0, 1, 5),\n",
    "    'C': [0.01, 0.03, 0.1, 0.3, 1, 3, 10, 30]\n",
    "}"
   ]
  },
  {
   "cell_type": "markdown",
   "metadata": {},
   "source": [
    "**Note**: Result of this grid search is loaded from the pickle file because it consumes at most **3 minutes** to run. Please run the code below if you insist."
   ]
  },
  {
   "cell_type": "markdown",
   "metadata": {
    "colab": {
     "base_uri": "https://localhost:8080/",
     "height": 301
    },
    "colab_type": "code",
    "executionInfo": {
     "elapsed": 263238,
     "status": "ok",
     "timestamp": 1599298881877,
     "user": {
      "displayName": "PolarBear Yap",
      "photoUrl": "https://lh3.googleusercontent.com/a-/AOh14Gh6xY6wDRASo9ifgNeDcwMeBd3TCQFVGw14HLGtCg=s64",
      "userId": "07391035732959922581"
     },
     "user_tz": -480
    },
    "id": "Bgfyx03C96UI",
    "outputId": "bc98ab4e-4f0e-44d2-bbac-059060614a78"
   },
   "source": [
    "```python\n",
    "log_reg = clone(log_reg)\n",
    "\n",
    "log_grid_search = GridSearchCV(log_reg, param_grid=log_reg_param_grid, scoring='roc_auc', return_train_score=True, verbose=10, cv=3, n_jobs=-1)\n",
    "log_grid_search.fit(X_train, y_train)\n",
    "results = log_grid_search.cv_results_\n",
    "```"
   ]
  },
  {
   "cell_type": "markdown",
   "metadata": {},
   "source": [
    "Load log_grid_search from log_grid_search.pickle"
   ]
  },
  {
   "cell_type": "code",
   "execution_count": null,
   "metadata": {},
   "outputs": [],
   "source": [
    "with open('../../pickles/log_grid_search.pickle', 'rb') as file:\n",
    "    log_grid_search = pickle.load(file)"
   ]
  },
  {
   "cell_type": "code",
   "execution_count": null,
   "metadata": {
    "colab": {
     "base_uri": "https://localhost:8080/",
     "height": 34
    },
    "colab_type": "code",
    "executionInfo": {
     "elapsed": 263216,
     "status": "ok",
     "timestamp": 1599298881883,
     "user": {
      "displayName": "PolarBear Yap",
      "photoUrl": "https://lh3.googleusercontent.com/a-/AOh14Gh6xY6wDRASo9ifgNeDcwMeBd3TCQFVGw14HLGtCg=s64",
      "userId": "07391035732959922581"
     },
     "user_tz": -480
    },
    "id": "UfEDcqqE-Cz2",
    "outputId": "ccf0328a-9b87-485c-a9d4-e6ed4e6c6e14"
   },
   "outputs": [],
   "source": [
    "print(f'Best Params for Logistic Regression: {log_grid_search.best_params_}')"
   ]
  },
  {
   "cell_type": "markdown",
   "metadata": {
    "colab_type": "text",
    "id": "9rnpgTUHgP8l"
   },
   "source": [
    "### Selecting threshold"
   ]
  },
  {
   "cell_type": "code",
   "execution_count": null,
   "metadata": {
    "colab": {},
    "colab_type": "code",
    "id": "apQolYGtmjf8"
   },
   "outputs": [],
   "source": [
    "tuned_log_reg = log_grid_search.best_estimator_\n",
    "tuned_log_reg"
   ]
  },
  {
   "cell_type": "code",
   "execution_count": null,
   "metadata": {
    "colab": {
     "base_uri": "https://localhost:8080/",
     "height": 577
    },
    "colab_type": "code",
    "executionInfo": {
     "elapsed": 267309,
     "status": "ok",
     "timestamp": 1599298886141,
     "user": {
      "displayName": "PolarBear Yap",
      "photoUrl": "https://lh3.googleusercontent.com/a-/AOh14Gh6xY6wDRASo9ifgNeDcwMeBd3TCQFVGw14HLGtCg=s64",
      "userId": "07391035732959922581"
     },
     "user_tz": -480
    },
    "id": "pKSWt_5ZgOOw",
    "outputId": "3a9fe963-0d56-4d58-a4d6-227604beefbb"
   },
   "outputs": [],
   "source": [
    "fig, ax = plt.subplots()\n",
    "fig.set_size_inches(10, 8)\n",
    "\n",
    "precisions, recalls, thresholds = plot_precision_vs_recall2(tuned_log_reg, 'Logistic Regression', X_train, y_train,\n",
    "                                                            0.80, ax, 'predict_proba')"
   ]
  },
  {
   "cell_type": "markdown",
   "metadata": {
    "colab_type": "text",
    "id": "zKW_0-1SePyQ"
   },
   "source": [
    "### Post Evaluation"
   ]
  },
  {
   "cell_type": "code",
   "execution_count": null,
   "metadata": {
    "colab": {
     "base_uri": "https://localhost:8080/",
     "height": 105
    },
    "colab_type": "code",
    "executionInfo": {
     "elapsed": 267280,
     "status": "ok",
     "timestamp": 1599298886143,
     "user": {
      "displayName": "PolarBear Yap",
      "photoUrl": "https://lh3.googleusercontent.com/a-/AOh14Gh6xY6wDRASo9ifgNeDcwMeBd3TCQFVGw14HLGtCg=s64",
      "userId": "07391035732959922581"
     },
     "user_tz": -480
    },
    "id": "3sqJGBJgJyIe",
    "outputId": "ddeb859c-83d6-479b-d4a2-19d9ec052986"
   },
   "outputs": [],
   "source": [
    "LOG_REG_THRESHOLD = 0.382250\n",
    "\n",
    "tuned_log_reg = clone(tuned_log_reg)\n",
    "tuned_log_reg"
   ]
  },
  {
   "cell_type": "code",
   "execution_count": null,
   "metadata": {
    "colab": {
     "base_uri": "https://localhost:8080/",
     "height": 356
    },
    "colab_type": "code",
    "executionInfo": {
     "elapsed": 270521,
     "status": "ok",
     "timestamp": 1599298889452,
     "user": {
      "displayName": "PolarBear Yap",
      "photoUrl": "https://lh3.googleusercontent.com/a-/AOh14Gh6xY6wDRASo9ifgNeDcwMeBd3TCQFVGw14HLGtCg=s64",
      "userId": "07391035732959922581"
     },
     "user_tz": -480
    },
    "id": "r3tKrL3eeoEp",
    "outputId": "73f5dbe5-c154-4ecd-f11b-1fbec7ce2db7"
   },
   "outputs": [],
   "source": [
    "fig, ax = plt.subplots()\n",
    "fig.set_size_inches(6, 5)\n",
    "\n",
    "display_confusion_matrix_train(\n",
    "    X_train, y_train, tuned_log_reg, LOG_REG_THRESHOLD, ax, 'Logistic Regression')"
   ]
  },
  {
   "cell_type": "markdown",
   "metadata": {
    "colab_type": "text",
    "id": "6jnVeSB3fk7h"
   },
   "source": [
    "### Effect of hyparameters"
   ]
  },
  {
   "cell_type": "markdown",
   "metadata": {
    "colab_type": "text",
    "id": "BfmAu__Y0Oog"
   },
   "source": [
    "l1_ratio"
   ]
  },
  {
   "cell_type": "code",
   "execution_count": null,
   "metadata": {
    "colab": {
     "base_uri": "https://localhost:8080/",
     "height": 573
    },
    "colab_type": "code",
    "executionInfo": {
     "elapsed": 284818,
     "status": "ok",
     "timestamp": 1599298903974,
     "user": {
      "displayName": "PolarBear Yap",
      "photoUrl": "https://lh3.googleusercontent.com/a-/AOh14Gh6xY6wDRASo9ifgNeDcwMeBd3TCQFVGw14HLGtCg=s64",
      "userId": "07391035732959922581"
     },
     "user_tz": -480
    },
    "id": "GhcKro9ZA6Gm",
    "outputId": "6906d805-3a0e-4f1b-b40d-1bcd13355f8d"
   },
   "outputs": [],
   "source": [
    "log_reg = LogisticRegression(penalty='elasticnet', random_state=RANDOM_SEED,\n",
    "                             solver='saga', C=3.0, max_iter=3000)\n",
    "l1_param = log_reg_param_grid['l1_ratio']\n",
    "\n",
    "fig, ax = plt.subplots()\n",
    "plot_validation_curve(log_reg, X_train, y_train, 'l1_ratio', l1_param, fig, ax)"
   ]
  },
  {
   "cell_type": "markdown",
   "metadata": {
    "colab_type": "text",
    "id": "4yv_lS-q0VSx"
   },
   "source": [
    "**C**\n",
    "\n",
    "**Note**: train_score and test_score from validation_curve is loaded from the pickle file because it consumes at most **1 minute** to run. Please run the code below if you insist."
   ]
  },
  {
   "cell_type": "markdown",
   "metadata": {},
   "source": [
    "```python\n",
    "log_reg = LogisticRegression(penalty='elasticnet', random_state=RANDOM_SEED,\n",
    "                             solver='saga', l1_ratio=1.0, max_iter=3000)\n",
    "C_param = log_reg_param_grid['C']\n",
    "\n",
    "fig, ax = plt.subplots()\n",
    "plot_validation_curve(log_reg, X_train, y_train, 'C', C_param, fig, ax)\n",
    "```"
   ]
  },
  {
   "cell_type": "code",
   "execution_count": null,
   "metadata": {
    "colab": {
     "base_uri": "https://localhost:8080/",
     "height": 573
    },
    "colab_type": "code",
    "executionInfo": {
     "elapsed": 326260,
     "status": "ok",
     "timestamp": 1599298945464,
     "user": {
      "displayName": "PolarBear Yap",
      "photoUrl": "https://lh3.googleusercontent.com/a-/AOh14Gh6xY6wDRASo9ifgNeDcwMeBd3TCQFVGw14HLGtCg=s64",
      "userId": "07391035732959922581"
     },
     "user_tz": -480
    },
    "id": "z5Q_NqE41ncJ",
    "outputId": "25b5c791-4aa5-4158-f641-d1928fc833e3"
   },
   "outputs": [],
   "source": [
    "with open('../../pickles/log_val_C.pickle', 'rb') as file:\n",
    "    train_score = pickle.load(file)\n",
    "    test_score = pickle.load(file)\n",
    "\n",
    "C_param = log_reg_param_grid['C']\n",
    "\n",
    "fig, ax = plt.subplots()\n",
    "plot_validation_curve_fast(train_score, test_score, 'C', C_param, fig, ax)"
   ]
  },
  {
   "cell_type": "markdown",
   "metadata": {
    "colab_type": "text",
    "id": "4N9HcSyFdxYi"
   },
   "source": [
    "## Model 2: Support Vector Classifier"
   ]
  },
  {
   "cell_type": "markdown",
   "metadata": {
    "colab_type": "text",
    "id": "hS5E4M1uCpvd"
   },
   "source": [
    "### Pre-Evaluation"
   ]
  },
  {
   "cell_type": "code",
   "execution_count": null,
   "metadata": {
    "colab": {
     "base_uri": "https://localhost:8080/",
     "height": 87
    },
    "colab_type": "code",
    "executionInfo": {
     "elapsed": 333135,
     "status": "ok",
     "timestamp": 1599298952396,
     "user": {
      "displayName": "PolarBear Yap",
      "photoUrl": "https://lh3.googleusercontent.com/a-/AOh14Gh6xY6wDRASo9ifgNeDcwMeBd3TCQFVGw14HLGtCg=s64",
      "userId": "07391035732959922581"
     },
     "user_tz": -480
    },
    "id": "tDtucNxdCpvh",
    "outputId": "5677c92b-9077-432f-8439-0cf5b2db2ed6"
   },
   "outputs": [],
   "source": [
    "# C-Support Vector Classifier with Default Settings\n",
    "svm_model = SVC(random_state=RANDOM_SEED, probability=True)\n",
    "svm_model.fit(X_train, y_train)"
   ]
  },
  {
   "cell_type": "code",
   "execution_count": null,
   "metadata": {
    "colab": {
     "base_uri": "https://localhost:8080/",
     "height": 356
    },
    "colab_type": "code",
    "executionInfo": {
     "elapsed": 343180,
     "status": "ok",
     "timestamp": 1599298962480,
     "user": {
      "displayName": "PolarBear Yap",
      "photoUrl": "https://lh3.googleusercontent.com/a-/AOh14Gh6xY6wDRASo9ifgNeDcwMeBd3TCQFVGw14HLGtCg=s64",
      "userId": "07391035732959922581"
     },
     "user_tz": -480
    },
    "id": "M-B82_TmkrGt",
    "outputId": "a050f9f7-21c6-41f4-c635-2e7b845c910b"
   },
   "outputs": [],
   "source": [
    "fig, ax = plt.subplots()\n",
    "fig.set_size_inches(6, 5)\n",
    "\n",
    "display_confusion_matrix_train(\n",
    "    X_train, y_train, svm_model, 0.5, ax, 'Support Vector Classifier')"
   ]
  },
  {
   "cell_type": "markdown",
   "metadata": {
    "colab_type": "text",
    "id": "CAlrKO2PCpvo"
   },
   "source": [
    "### Grid search"
   ]
  },
  {
   "cell_type": "code",
   "execution_count": null,
   "metadata": {
    "colab": {},
    "colab_type": "code",
    "id": "i9F6BoPnCpvp"
   },
   "outputs": [],
   "source": [
    "# List of parameters and different combinations to produce a best result\n",
    "svm_param_grid = {'C': [0.1, 1, 10, 100, 1000, 10000],\n",
    "                  'gamma': [1, 0.1, 0.01, 0.001, 0.0001]}"
   ]
  },
  {
   "cell_type": "markdown",
   "metadata": {},
   "source": [
    "**Note**: Result of this grid search is loaded from the pickle file because it consumes at most **5 minutes** to run. Please run the code below if you insist."
   ]
  },
  {
   "cell_type": "markdown",
   "metadata": {
    "colab": {
     "base_uri": "https://localhost:8080/",
     "height": 1000
    },
    "colab_type": "code",
    "executionInfo": {
     "elapsed": 779717,
     "status": "ok",
     "timestamp": 1599299399055,
     "user": {
      "displayName": "PolarBear Yap",
      "photoUrl": "https://lh3.googleusercontent.com/a-/AOh14Gh6xY6wDRASo9ifgNeDcwMeBd3TCQFVGw14HLGtCg=s64",
      "userId": "07391035732959922581"
     },
     "user_tz": -480
    },
    "id": "jc6qTPOel5x9",
    "outputId": "276e35bd-ed2e-4ba6-a34e-b5444d2df46d"
   },
   "source": [
    "```python\n",
    "svm_model = clone(svm_model)\n",
    "\n",
    "svm_grid_search = GridSearchCV(svm_model, svm_param_grid, cv=3, scoring='roc_auc', return_train_score=True, verbose=10)\n",
    "svm_grid_search.fit(X_train, y_train)\n",
    "results = svm_grid_search.cv_results_\n",
    "```"
   ]
  },
  {
   "cell_type": "markdown",
   "metadata": {},
   "source": [
    "Load svm_grid_search from svm_grid_search.pickle"
   ]
  },
  {
   "cell_type": "code",
   "execution_count": null,
   "metadata": {},
   "outputs": [],
   "source": [
    "with open('../../pickles/svm_grid_search.pickle', 'rb') as file:\n",
    "    svm_grid_search = pickle.load(file)"
   ]
  },
  {
   "cell_type": "code",
   "execution_count": null,
   "metadata": {
    "colab": {
     "base_uri": "https://localhost:8080/",
     "height": 34
    },
    "colab_type": "code",
    "executionInfo": {
     "elapsed": 779696,
     "status": "ok",
     "timestamp": 1599299399067,
     "user": {
      "displayName": "PolarBear Yap",
      "photoUrl": "https://lh3.googleusercontent.com/a-/AOh14Gh6xY6wDRASo9ifgNeDcwMeBd3TCQFVGw14HLGtCg=s64",
      "userId": "07391035732959922581"
     },
     "user_tz": -480
    },
    "id": "JXqYyb_Zl7Y6",
    "outputId": "31cfe74e-12cc-484a-ee8e-b7759a7ee18f"
   },
   "outputs": [],
   "source": [
    "print(\n",
    "    f'Best Params for Support Vector Classifier: {svm_grid_search.best_params_}')"
   ]
  },
  {
   "cell_type": "markdown",
   "metadata": {
    "colab_type": "text",
    "id": "A1llT7JACpvu"
   },
   "source": [
    "### Selecting threshold"
   ]
  },
  {
   "cell_type": "code",
   "execution_count": null,
   "metadata": {
    "colab": {},
    "colab_type": "code",
    "id": "tObfjcatCpvv"
   },
   "outputs": [],
   "source": [
    "tuned_svm_model = svm_grid_search.best_estimator_"
   ]
  },
  {
   "cell_type": "code",
   "execution_count": null,
   "metadata": {
    "colab": {
     "base_uri": "https://localhost:8080/",
     "height": 577
    },
    "colab_type": "code",
    "executionInfo": {
     "elapsed": 790935,
     "status": "ok",
     "timestamp": 1599299410353,
     "user": {
      "displayName": "PolarBear Yap",
      "photoUrl": "https://lh3.googleusercontent.com/a-/AOh14Gh6xY6wDRASo9ifgNeDcwMeBd3TCQFVGw14HLGtCg=s64",
      "userId": "07391035732959922581"
     },
     "user_tz": -480
    },
    "id": "qynN_oidsRye",
    "outputId": "dcbc8aef-19b0-4cd7-a0b9-24bbed7a279f"
   },
   "outputs": [],
   "source": [
    "fig, ax = plt.subplots()\n",
    "fig.set_size_inches(10, 8)\n",
    "\n",
    "precisions, recalls, thresholds = plot_precision_vs_recall2(\n",
    "    tuned_svm_model, 'Support Vector Classifier', X_train, y_train, 0.88, ax, 'predict_proba')"
   ]
  },
  {
   "cell_type": "markdown",
   "metadata": {
    "colab_type": "text",
    "id": "3lqR67lkCpv1"
   },
   "source": [
    "### Post Evaluation"
   ]
  },
  {
   "cell_type": "code",
   "execution_count": null,
   "metadata": {
    "colab": {
     "base_uri": "https://localhost:8080/",
     "height": 87
    },
    "colab_type": "code",
    "executionInfo": {
     "elapsed": 790913,
     "status": "ok",
     "timestamp": 1599299410357,
     "user": {
      "displayName": "PolarBear Yap",
      "photoUrl": "https://lh3.googleusercontent.com/a-/AOh14Gh6xY6wDRASo9ifgNeDcwMeBd3TCQFVGw14HLGtCg=s64",
      "userId": "07391035732959922581"
     },
     "user_tz": -480
    },
    "id": "rR8VVZWedxod",
    "outputId": "772fb14f-4753-45fa-a0f8-6fa8d54fa52b"
   },
   "outputs": [],
   "source": [
    "SVM_THRESHOLD = 0.256966\n",
    "\n",
    "tuned_svm_model = clone(tuned_svm_model)\n",
    "tuned_svm_model"
   ]
  },
  {
   "cell_type": "code",
   "execution_count": null,
   "metadata": {
    "colab": {
     "base_uri": "https://localhost:8080/",
     "height": 356
    },
    "colab_type": "code",
    "executionInfo": {
     "elapsed": 802007,
     "status": "ok",
     "timestamp": 1599299421479,
     "user": {
      "displayName": "PolarBear Yap",
      "photoUrl": "https://lh3.googleusercontent.com/a-/AOh14Gh6xY6wDRASo9ifgNeDcwMeBd3TCQFVGw14HLGtCg=s64",
      "userId": "07391035732959922581"
     },
     "user_tz": -480
    },
    "id": "W2x5prE5ucPC",
    "outputId": "73615bf6-dc71-451f-c6ea-d33acbc6acbb"
   },
   "outputs": [],
   "source": [
    "fig, ax = plt.subplots()\n",
    "fig.set_size_inches(6, 5)\n",
    "\n",
    "display_confusion_matrix_train(\n",
    "    X_train, y_train, tuned_svm_model, SVM_THRESHOLD, ax, 'Support Vector Classifier')"
   ]
  },
  {
   "cell_type": "markdown",
   "metadata": {
    "colab_type": "text",
    "id": "4awBFIhgztl-"
   },
   "source": [
    "### Effect of hyparameters"
   ]
  },
  {
   "cell_type": "code",
   "execution_count": null,
   "metadata": {
    "colab": {
     "base_uri": "https://localhost:8080/",
     "height": 87
    },
    "colab_type": "code",
    "executionInfo": {
     "elapsed": 801981,
     "status": "ok",
     "timestamp": 1599299421482,
     "user": {
      "displayName": "PolarBear Yap",
      "photoUrl": "https://lh3.googleusercontent.com/a-/AOh14Gh6xY6wDRASo9ifgNeDcwMeBd3TCQFVGw14HLGtCg=s64",
      "userId": "07391035732959922581"
     },
     "user_tz": -480
    },
    "id": "h_gAOZvj1ANR",
    "outputId": "b8a6726c-d776-43fa-8dd7-0a27ed185f4b"
   },
   "outputs": [],
   "source": [
    "best_svm_model = clone(svm_grid_search.best_estimator_)\n",
    "best_svm_model"
   ]
  },
  {
   "cell_type": "markdown",
   "metadata": {
    "colab_type": "text",
    "id": "szo9L2kDftOi"
   },
   "source": [
    "**C**\n",
    "\n",
    "**Note**: train_score and test_score from validation_curve is loaded from the pickle file because it consumes at most **1 minute** to run. Please run the code below if you insist."
   ]
  },
  {
   "cell_type": "markdown",
   "metadata": {},
   "source": [
    "```python\n",
    "svm_model = SVC(random_state=42, probability=True, gamma=0.1)\n",
    "C_param = svm_param_grid['C']\n",
    "\n",
    "train_score, test_score = validation_curve(svm_model, X_train, y_train, param_name='C',\n",
    "                                           param_range=C_param, cv=3, scoring='roc_auc',\n",
    "                                           verbose=1, n_jobs=-1)\n",
    "```"
   ]
  },
  {
   "cell_type": "code",
   "execution_count": null,
   "metadata": {
    "colab": {
     "base_uri": "https://localhost:8080/",
     "height": 573
    },
    "colab_type": "code",
    "executionInfo": {
     "elapsed": 899446,
     "status": "ok",
     "timestamp": 1599299518974,
     "user": {
      "displayName": "PolarBear Yap",
      "photoUrl": "https://lh3.googleusercontent.com/a-/AOh14Gh6xY6wDRASo9ifgNeDcwMeBd3TCQFVGw14HLGtCg=s64",
      "userId": "07391035732959922581"
     },
     "user_tz": -480
    },
    "id": "oqjM2zdb0h54",
    "outputId": "4a937915-eb7e-4475-9a02-fc8d908c919a"
   },
   "outputs": [],
   "source": [
    "with open('../../pickles/tree_val_C.pickle', 'rb') as file:\n",
    "    train_score = pickle.load(file)\n",
    "    test_score = pickle.load(file)\n",
    "\n",
    "C_param = svm_param_grid['C']\n",
    "\n",
    "fig, ax = plt.subplots()\n",
    "plot_validation_curve_fast(train_score, test_score, 'C', C_param, fig, ax)"
   ]
  },
  {
   "cell_type": "markdown",
   "metadata": {
    "colab_type": "text",
    "id": "JL6UNoQ70iBu"
   },
   "source": [
    "**gamma**\n",
    "\n",
    "**Note**: train_score and test_score from validation_curve is loaded from the pickle file because it consumes at most **1 minute** to run. Please run the code below if you insist."
   ]
  },
  {
   "cell_type": "markdown",
   "metadata": {},
   "source": [
    "```python\n",
    "svm_model = SVC(random_state=42, probability=True, C=100)\n",
    "gamma_param = svm_param_grid['gamma']\n",
    "\n",
    "fig, ax = plt.subplots()\n",
    "plot_validation_curve(svm_model, X_train, y_train,\n",
    "                      'gamma',  gamma_param, fig, ax)\n",
    "```"
   ]
  },
  {
   "cell_type": "code",
   "execution_count": null,
   "metadata": {
    "colab": {
     "base_uri": "https://localhost:8080/",
     "height": 573
    },
    "colab_type": "code",
    "executionInfo": {
     "elapsed": 960527,
     "status": "ok",
     "timestamp": 1599299580088,
     "user": {
      "displayName": "PolarBear Yap",
      "photoUrl": "https://lh3.googleusercontent.com/a-/AOh14Gh6xY6wDRASo9ifgNeDcwMeBd3TCQFVGw14HLGtCg=s64",
      "userId": "07391035732959922581"
     },
     "user_tz": -480
    },
    "id": "8OY676MN0iLS",
    "outputId": "86f680f9-8caf-4a5c-c676-880654258b3e"
   },
   "outputs": [],
   "source": [
    "with open('../../pickles/tree_val_gamma.pickle', 'rb') as file:\n",
    "    train_score = pickle.load(file)\n",
    "    test_score = pickle.load(file)\n",
    "\n",
    "gamma_param = svm_param_grid['gamma']\n",
    "\n",
    "fig, ax = plt.subplots()\n",
    "plot_validation_curve_fast(train_score, test_score, 'gamma',  gamma_param, fig, ax)"
   ]
  },
  {
   "cell_type": "markdown",
   "metadata": {
    "colab_type": "text",
    "id": "KwT2FepcLyY5"
   },
   "source": [
    "## Model 3: Extra Trees Classifier"
   ]
  },
  {
   "cell_type": "markdown",
   "metadata": {
    "colab_type": "text",
    "id": "RRMIPmfQCTwW"
   },
   "source": [
    "### Pre-Evaluation"
   ]
  },
  {
   "cell_type": "code",
   "execution_count": null,
   "metadata": {
    "colab": {
     "base_uri": "https://localhost:8080/",
     "height": 158
    },
    "colab_type": "code",
    "executionInfo": {
     "elapsed": 961066,
     "status": "ok",
     "timestamp": 1599299580655,
     "user": {
      "displayName": "PolarBear Yap",
      "photoUrl": "https://lh3.googleusercontent.com/a-/AOh14Gh6xY6wDRASo9ifgNeDcwMeBd3TCQFVGw14HLGtCg=s64",
      "userId": "07391035732959922581"
     },
     "user_tz": -480
    },
    "id": "Wd8t72mpXSdi",
    "outputId": "188a4cc2-2e6b-477a-f8d1-80c0bf118a8f"
   },
   "outputs": [],
   "source": [
    "# C-Support Vector Classifier with Default Settings\n",
    "extra_trees_model = ExtraTreesClassifier(random_state=RANDOM_SEED)\n",
    "extra_trees_model.fit(X_train, y_train)"
   ]
  },
  {
   "cell_type": "code",
   "execution_count": null,
   "metadata": {
    "colab": {
     "base_uri": "https://localhost:8080/",
     "height": 356
    },
    "colab_type": "code",
    "executionInfo": {
     "elapsed": 962771,
     "status": "ok",
     "timestamp": 1599299582393,
     "user": {
      "displayName": "PolarBear Yap",
      "photoUrl": "https://lh3.googleusercontent.com/a-/AOh14Gh6xY6wDRASo9ifgNeDcwMeBd3TCQFVGw14HLGtCg=s64",
      "userId": "07391035732959922581"
     },
     "user_tz": -480
    },
    "id": "5mkwwInvXSdt",
    "outputId": "966d4b89-f1be-463a-a879-b0f6edf7d3fd"
   },
   "outputs": [],
   "source": [
    "fig, ax = plt.subplots()\n",
    "fig.set_size_inches(6, 5)\n",
    "\n",
    "display_confusion_matrix_train(\n",
    "    X_train, y_train, extra_trees_model, 0.5, ax, 'Extra Trees Classifier')"
   ]
  },
  {
   "cell_type": "markdown",
   "metadata": {
    "colab_type": "text",
    "id": "7i5INbjzXSdy"
   },
   "source": [
    "### Randomized search"
   ]
  },
  {
   "cell_type": "code",
   "execution_count": null,
   "metadata": {
    "colab": {},
    "colab_type": "code",
    "id": "T0Iy-lmHhmqb"
   },
   "outputs": [],
   "source": [
    "tree_param_grid = {\n",
    "    'n_estimators': np.linspace(10, 200, num=5, endpoint=True, dtype=\"int64\"),\n",
    "    'max_depth': np.linspace(1, 30, num=5, endpoint=True, dtype=\"int64\"),\n",
    "    'min_samples_split': np.linspace(2, 30, num=5, endpoint=True, dtype=\"int64\"),\n",
    "    'min_samples_leaf': np.linspace(1, 30, num=5, endpoint=True, dtype=\"int64\"),\n",
    "}"
   ]
  },
  {
   "cell_type": "code",
   "execution_count": null,
   "metadata": {
    "colab": {
     "base_uri": "https://localhost:8080/",
     "height": 70
    },
    "colab_type": "code",
    "executionInfo": {
     "elapsed": 1046878,
     "status": "ok",
     "timestamp": 1599299666550,
     "user": {
      "displayName": "PolarBear Yap",
      "photoUrl": "https://lh3.googleusercontent.com/a-/AOh14Gh6xY6wDRASo9ifgNeDcwMeBd3TCQFVGw14HLGtCg=s64",
      "userId": "07391035732959922581"
     },
     "user_tz": -480
    },
    "id": "WzyZeAROXSd6",
    "outputId": "d90473c7-943d-4b6b-a59a-14a972389e10"
   },
   "outputs": [],
   "source": [
    "extra_trees_model = clone(extra_trees_model)\n",
    "\n",
    "tree_rand_search = RandomizedSearchCV(extra_trees_model, param_distributions=tree_param_grid, n_iter = 100,\n",
    "                                      cv = 3, verbose=1, random_state=RANDOM_SEED, n_jobs=-1)\n",
    "\n",
    "tree_rand_search.fit(X_train, y_train)\n",
    "results = tree_rand_search.cv_results_"
   ]
  },
  {
   "cell_type": "code",
   "execution_count": null,
   "metadata": {
    "colab": {
     "base_uri": "https://localhost:8080/",
     "height": 34
    },
    "colab_type": "code",
    "executionInfo": {
     "elapsed": 1046851,
     "status": "ok",
     "timestamp": 1599299666553,
     "user": {
      "displayName": "PolarBear Yap",
      "photoUrl": "https://lh3.googleusercontent.com/a-/AOh14Gh6xY6wDRASo9ifgNeDcwMeBd3TCQFVGw14HLGtCg=s64",
      "userId": "07391035732959922581"
     },
     "user_tz": -480
    },
    "id": "2TLD4aYrXlAX",
    "outputId": "cfe682cf-25b7-417d-fcf9-367c795de0e3"
   },
   "outputs": [],
   "source": [
    "print(f'Best Params for Support Vector Classifier: {tree_rand_search.best_params_}')"
   ]
  },
  {
   "cell_type": "markdown",
   "metadata": {
    "colab_type": "text",
    "id": "zeWXx1lvXlAb"
   },
   "source": [
    "### Selecting threshold"
   ]
  },
  {
   "cell_type": "code",
   "execution_count": null,
   "metadata": {
    "colab": {
     "base_uri": "https://localhost:8080/",
     "height": 158
    },
    "colab_type": "code",
    "executionInfo": {
     "elapsed": 1046825,
     "status": "ok",
     "timestamp": 1599299666554,
     "user": {
      "displayName": "PolarBear Yap",
      "photoUrl": "https://lh3.googleusercontent.com/a-/AOh14Gh6xY6wDRASo9ifgNeDcwMeBd3TCQFVGw14HLGtCg=s64",
      "userId": "07391035732959922581"
     },
     "user_tz": -480
    },
    "id": "kMI-qOSVZKZW",
    "outputId": "d18035e7-083d-4df5-a1ac-c2feab77114f"
   },
   "outputs": [],
   "source": [
    "tuned_extra_trees_model = tree_rand_search.best_estimator_\n",
    "tuned_extra_trees_model"
   ]
  },
  {
   "cell_type": "code",
   "execution_count": null,
   "metadata": {
    "colab": {
     "base_uri": "https://localhost:8080/",
     "height": 577
    },
    "colab_type": "code",
    "executionInfo": {
     "elapsed": 1050101,
     "status": "ok",
     "timestamp": 1599299669859,
     "user": {
      "displayName": "PolarBear Yap",
      "photoUrl": "https://lh3.googleusercontent.com/a-/AOh14Gh6xY6wDRASo9ifgNeDcwMeBd3TCQFVGw14HLGtCg=s64",
      "userId": "07391035732959922581"
     },
     "user_tz": -480
    },
    "id": "IICU6C1AXlAe",
    "outputId": "1f9592a8-be47-465b-ebcf-1bb6e3874a75"
   },
   "outputs": [],
   "source": [
    "fig, ax = plt.subplots()\n",
    "fig.set_size_inches(10, 8)\n",
    "\n",
    "precisions, recalls, thresholds = plot_precision_vs_recall2(\n",
    "    tuned_extra_trees_model, 'Extra Trees Classifier', X_train, y_train, 0.90, ax, 'predict_proba')"
   ]
  },
  {
   "cell_type": "markdown",
   "metadata": {
    "colab_type": "text",
    "id": "nzK3xsXSXucX"
   },
   "source": [
    "### Post Evaluation"
   ]
  },
  {
   "cell_type": "code",
   "execution_count": null,
   "metadata": {
    "colab": {
     "base_uri": "https://localhost:8080/",
     "height": 158
    },
    "colab_type": "code",
    "executionInfo": {
     "elapsed": 1050097,
     "status": "ok",
     "timestamp": 1599299669861,
     "user": {
      "displayName": "PolarBear Yap",
      "photoUrl": "https://lh3.googleusercontent.com/a-/AOh14Gh6xY6wDRASo9ifgNeDcwMeBd3TCQFVGw14HLGtCg=s64",
      "userId": "07391035732959922581"
     },
     "user_tz": -480
    },
    "id": "JTuyx8_gXuca",
    "outputId": "71d40976-c021-4b1f-8d99-1b9b3fdbc03e"
   },
   "outputs": [],
   "source": [
    "TREE_THRESHOLD = 0.307435\n",
    "\n",
    "tuned_extra_trees_model = clone(tuned_extra_trees_model)\n",
    "tuned_extra_trees_model"
   ]
  },
  {
   "cell_type": "code",
   "execution_count": null,
   "metadata": {
    "colab": {
     "base_uri": "https://localhost:8080/",
     "height": 356
    },
    "colab_type": "code",
    "executionInfo": {
     "elapsed": 1052340,
     "status": "ok",
     "timestamp": 1599299672133,
     "user": {
      "displayName": "PolarBear Yap",
      "photoUrl": "https://lh3.googleusercontent.com/a-/AOh14Gh6xY6wDRASo9ifgNeDcwMeBd3TCQFVGw14HLGtCg=s64",
      "userId": "07391035732959922581"
     },
     "user_tz": -480
    },
    "id": "JQsVn1csXucj",
    "outputId": "07c63258-c7f8-4015-9643-0b02e329cdca"
   },
   "outputs": [],
   "source": [
    "fig, ax = plt.subplots()\n",
    "fig.set_size_inches(6, 5)\n",
    "display_confusion_matrix_train(\n",
    "    X_train, y_train, tuned_extra_trees_model, TREE_THRESHOLD, ax, 'Extra Trees Classifier')"
   ]
  },
  {
   "cell_type": "markdown",
   "metadata": {
    "colab_type": "text",
    "id": "ikLr0O2ift-a"
   },
   "source": [
    "### Effect of hyparameters"
   ]
  },
  {
   "cell_type": "code",
   "execution_count": null,
   "metadata": {
    "colab": {
     "base_uri": "https://localhost:8080/",
     "height": 158
    },
    "colab_type": "code",
    "executionInfo": {
     "elapsed": 1052335,
     "status": "ok",
     "timestamp": 1599299672135,
     "user": {
      "displayName": "PolarBear Yap",
      "photoUrl": "https://lh3.googleusercontent.com/a-/AOh14Gh6xY6wDRASo9ifgNeDcwMeBd3TCQFVGw14HLGtCg=s64",
      "userId": "07391035732959922581"
     },
     "user_tz": -480
    },
    "id": "rWYO8RbjkSQQ",
    "outputId": "9a4fe1e4-5c85-43d5-ce83-12236350588a"
   },
   "outputs": [],
   "source": [
    "best_extra_trees_model = clone(tree_rand_search.best_estimator_)\n",
    "best_extra_trees_model"
   ]
  },
  {
   "cell_type": "code",
   "execution_count": null,
   "metadata": {
    "colab": {
     "base_uri": "https://localhost:8080/",
     "height": 573
    },
    "colab_type": "code",
    "executionInfo": {
     "elapsed": 1060604,
     "status": "ok",
     "timestamp": 1599299680431,
     "user": {
      "displayName": "PolarBear Yap",
      "photoUrl": "https://lh3.googleusercontent.com/a-/AOh14Gh6xY6wDRASo9ifgNeDcwMeBd3TCQFVGw14HLGtCg=s64",
      "userId": "07391035732959922581"
     },
     "user_tz": -480
    },
    "id": "Utkf0M8VL25P",
    "outputId": "3da9e22b-41c4-4686-d899-9f8826b15bc4"
   },
   "outputs": [],
   "source": [
    "fig, ax = plt.subplots()\n",
    "plot_validation_curve(best_extra_trees_model, X_train, y_train, 'n_estimators',\n",
    "                      tree_param_grid['n_estimators'], fig, ax)"
   ]
  },
  {
   "cell_type": "code",
   "execution_count": null,
   "metadata": {
    "colab": {
     "base_uri": "https://localhost:8080/",
     "height": 573
    },
    "colab_type": "code",
    "executionInfo": {
     "elapsed": 1072709,
     "status": "ok",
     "timestamp": 1599299692568,
     "user": {
      "displayName": "PolarBear Yap",
      "photoUrl": "https://lh3.googleusercontent.com/a-/AOh14Gh6xY6wDRASo9ifgNeDcwMeBd3TCQFVGw14HLGtCg=s64",
      "userId": "07391035732959922581"
     },
     "user_tz": -480
    },
    "id": "3qF4byntPh1p",
    "outputId": "83371aff-8869-4163-af9c-ccdac97e9abd"
   },
   "outputs": [],
   "source": [
    "fig, ax = plt.subplots()\n",
    "plot_validation_curve(best_extra_trees_model, X_train, y_train, 'max_depth',\n",
    "                      tree_param_grid['max_depth'], fig, ax)"
   ]
  },
  {
   "cell_type": "code",
   "execution_count": null,
   "metadata": {
    "colab": {
     "base_uri": "https://localhost:8080/",
     "height": 573
    },
    "colab_type": "code",
    "executionInfo": {
     "elapsed": 1087369,
     "status": "ok",
     "timestamp": 1599299707260,
     "user": {
      "displayName": "PolarBear Yap",
      "photoUrl": "https://lh3.googleusercontent.com/a-/AOh14Gh6xY6wDRASo9ifgNeDcwMeBd3TCQFVGw14HLGtCg=s64",
      "userId": "07391035732959922581"
     },
     "user_tz": -480
    },
    "id": "FdzPZBl-Ph67",
    "outputId": "c5636032-b6bb-4049-cc9b-39a320426125"
   },
   "outputs": [],
   "source": [
    "fig, ax = plt.subplots()\n",
    "plot_validation_curve(best_extra_trees_model, X_train, y_train, 'min_samples_split',\n",
    "                      tree_param_grid['min_samples_split'], fig, ax)"
   ]
  },
  {
   "cell_type": "code",
   "execution_count": null,
   "metadata": {
    "colab": {
     "base_uri": "https://localhost:8080/",
     "height": 573
    },
    "colab_type": "code",
    "executionInfo": {
     "elapsed": 1099591,
     "status": "ok",
     "timestamp": 1599299719512,
     "user": {
      "displayName": "PolarBear Yap",
      "photoUrl": "https://lh3.googleusercontent.com/a-/AOh14Gh6xY6wDRASo9ifgNeDcwMeBd3TCQFVGw14HLGtCg=s64",
      "userId": "07391035732959922581"
     },
     "user_tz": -480
    },
    "id": "Ci7Iw8OLPiDj",
    "outputId": "8c87f151-8e6c-4883-fc22-2753266150da"
   },
   "outputs": [],
   "source": [
    "fig, ax = plt.subplots()\n",
    "plot_validation_curve(best_extra_trees_model, X_train, y_train, 'min_samples_leaf',\n",
    "                      tree_param_grid['min_samples_leaf'], fig, ax)"
   ]
  },
  {
   "cell_type": "markdown",
   "metadata": {
    "colab_type": "text",
    "id": "ErXvDRJn7PIS"
   },
   "source": [
    "# Model Testing"
   ]
  },
  {
   "cell_type": "markdown",
   "metadata": {
    "colab_type": "text",
    "id": "X7cwgbKRFRn0"
   },
   "source": [
    "Model 1: Logistic Regression"
   ]
  },
  {
   "cell_type": "code",
   "execution_count": null,
   "metadata": {
    "colab": {
     "base_uri": "https://localhost:8080/",
     "height": 105
    },
    "colab_type": "code",
    "executionInfo": {
     "elapsed": 1099561,
     "status": "ok",
     "timestamp": 1599299719516,
     "user": {
      "displayName": "PolarBear Yap",
      "photoUrl": "https://lh3.googleusercontent.com/a-/AOh14Gh6xY6wDRASo9ifgNeDcwMeBd3TCQFVGw14HLGtCg=s64",
      "userId": "07391035732959922581"
     },
     "user_tz": -480
    },
    "id": "9o2G6mBvC7kE",
    "outputId": "ebdb1393-ce65-4408-d055-73c5e681b079"
   },
   "outputs": [],
   "source": [
    "logistic_regression = clone(log_grid_search.best_estimator_)\n",
    "logistic_regression"
   ]
  },
  {
   "cell_type": "code",
   "execution_count": null,
   "metadata": {
    "colab": {
     "base_uri": "https://localhost:8080/",
     "height": 105
    },
    "colab_type": "code",
    "executionInfo": {
     "elapsed": 1101010,
     "status": "ok",
     "timestamp": 1599299720970,
     "user": {
      "displayName": "PolarBear Yap",
      "photoUrl": "https://lh3.googleusercontent.com/a-/AOh14Gh6xY6wDRASo9ifgNeDcwMeBd3TCQFVGw14HLGtCg=s64",
      "userId": "07391035732959922581"
     },
     "user_tz": -480
    },
    "id": "EMPePni_ng1a",
    "outputId": "2d8072ca-75a9-47bc-e551-d32cfab527bb"
   },
   "outputs": [],
   "source": [
    "logistic_regression.fit(X_train, y_train)"
   ]
  },
  {
   "cell_type": "markdown",
   "metadata": {
    "colab_type": "text",
    "id": "bYrRq7QOFSrn"
   },
   "source": [
    "Model 2: Support Vector Classifier"
   ]
  },
  {
   "cell_type": "code",
   "execution_count": null,
   "metadata": {
    "colab": {
     "base_uri": "https://localhost:8080/",
     "height": 87
    },
    "colab_type": "code",
    "executionInfo": {
     "elapsed": 1101008,
     "status": "ok",
     "timestamp": 1599299720973,
     "user": {
      "displayName": "PolarBear Yap",
      "photoUrl": "https://lh3.googleusercontent.com/a-/AOh14Gh6xY6wDRASo9ifgNeDcwMeBd3TCQFVGw14HLGtCg=s64",
      "userId": "07391035732959922581"
     },
     "user_tz": -480
    },
    "id": "ehtkcYHPGITn",
    "outputId": "aee6b28a-fb95-474d-e246-16c2fa611db2"
   },
   "outputs": [],
   "source": [
    "svm_classfier = clone(svm_grid_search.best_estimator_)\n",
    "svm_classfier"
   ]
  },
  {
   "cell_type": "code",
   "execution_count": null,
   "metadata": {
    "colab": {
     "base_uri": "https://localhost:8080/",
     "height": 87
    },
    "colab_type": "code",
    "executionInfo": {
     "elapsed": 1109190,
     "status": "ok",
     "timestamp": 1599299729161,
     "user": {
      "displayName": "PolarBear Yap",
      "photoUrl": "https://lh3.googleusercontent.com/a-/AOh14Gh6xY6wDRASo9ifgNeDcwMeBd3TCQFVGw14HLGtCg=s64",
      "userId": "07391035732959922581"
     },
     "user_tz": -480
    },
    "id": "ompGK5OBniNT",
    "outputId": "1252167f-3544-4e6b-b48a-cceb76732714"
   },
   "outputs": [],
   "source": [
    "svm_classfier.fit(X_train, y_train)"
   ]
  },
  {
   "cell_type": "markdown",
   "metadata": {
    "colab_type": "text",
    "id": "lF2CKxQ4FZr3"
   },
   "source": [
    "Model 3: Extra Trees Classifier"
   ]
  },
  {
   "cell_type": "code",
   "execution_count": null,
   "metadata": {
    "colab": {
     "base_uri": "https://localhost:8080/",
     "height": 158
    },
    "colab_type": "code",
    "executionInfo": {
     "elapsed": 1109163,
     "status": "ok",
     "timestamp": 1599299729163,
     "user": {
      "displayName": "PolarBear Yap",
      "photoUrl": "https://lh3.googleusercontent.com/a-/AOh14Gh6xY6wDRASo9ifgNeDcwMeBd3TCQFVGw14HLGtCg=s64",
      "userId": "07391035732959922581"
     },
     "user_tz": -480
    },
    "id": "jxdGyFR_GI0P",
    "outputId": "893de2a5-fa90-434a-a198-16b4c0c0c0d1"
   },
   "outputs": [],
   "source": [
    "extra_trees_classifier = clone(tree_rand_search.best_estimator_)\n",
    "extra_trees_classifier"
   ]
  },
  {
   "cell_type": "code",
   "execution_count": null,
   "metadata": {
    "colab": {
     "base_uri": "https://localhost:8080/",
     "height": 158
    },
    "colab_type": "code",
    "executionInfo": {
     "elapsed": 1110394,
     "status": "ok",
     "timestamp": 1599299730398,
     "user": {
      "displayName": "PolarBear Yap",
      "photoUrl": "https://lh3.googleusercontent.com/a-/AOh14Gh6xY6wDRASo9ifgNeDcwMeBd3TCQFVGw14HLGtCg=s64",
      "userId": "07391035732959922581"
     },
     "user_tz": -480
    },
    "id": "iqcYFF2rniuu",
    "outputId": "fb012ed2-1105-4793-df11-cf8f8e30bf51"
   },
   "outputs": [],
   "source": [
    "extra_trees_classifier.fit(X_train, y_train)"
   ]
  },
  {
   "cell_type": "markdown",
   "metadata": {
    "colab_type": "text",
    "id": "EkNgDBfrnpBD"
   },
   "source": [
    "Model Comparisons"
   ]
  },
  {
   "cell_type": "code",
   "execution_count": null,
   "metadata": {
    "colab": {
     "base_uri": "https://localhost:8080/",
     "height": 361
    },
    "colab_type": "code",
    "executionInfo": {
     "elapsed": 2062,
     "status": "ok",
     "timestamp": 1599300064291,
     "user": {
      "displayName": "PolarBear Yap",
      "photoUrl": "https://lh3.googleusercontent.com/a-/AOh14Gh6xY6wDRASo9ifgNeDcwMeBd3TCQFVGw14HLGtCg=s64",
      "userId": "07391035732959922581"
     },
     "user_tz": -480
    },
    "id": "zm1rMwACC-6E",
    "outputId": "36b63f90-7df1-4ded-a0c4-cc90746660f0",
    "scrolled": true
   },
   "outputs": [],
   "source": [
    "fig, axs = plt.subplots(1, 3)\n",
    "fig.set_size_inches(24, 5)\n",
    "\n",
    "display_confusion_matrix_test(\n",
    "    X_test, y_test, logistic_regression, LOG_REG_THRESHOLD, axs[0], 'log_reg')\n",
    "display_confusion_matrix_test(\n",
    "    X_test, y_test, svm_classfier, SVM_THRESHOLD, axs[1], 'svm_cf')\n",
    "display_confusion_matrix_test(\n",
    "    X_test, y_test, extra_trees_classifier, TREE_THRESHOLD, axs[2], 'e_tree_cf')"
   ]
  },
  {
   "cell_type": "markdown",
   "metadata": {
    "colab_type": "text",
    "id": "3JXmRBdsFkkv"
   },
   "source": [
    "# Conclusion"
   ]
  },
  {
   "cell_type": "markdown",
   "metadata": {},
   "source": [
    "# Model Deployment"
   ]
  },
  {
   "cell_type": "markdown",
   "metadata": {},
   "source": [
    "Deploy Extra Trees Classifier to be used later"
   ]
  },
  {
   "cell_type": "code",
   "execution_count": null,
   "metadata": {},
   "outputs": [],
   "source": [
    "with open('../../pickles/final_ml_model.pickle', 'wb') as file:\n",
    "    pickle.dump(extra_trees_classifier, file)"
   ]
  }
 ],
 "metadata": {
  "kernelspec": {
   "display_name": "Python 3",
   "language": "python",
   "name": "python3"
  },
  "language_info": {
   "codemirror_mode": {
    "name": "ipython",
    "version": 3
   },
   "file_extension": ".py",
   "mimetype": "text/x-python",
   "name": "python",
   "nbconvert_exporter": "python",
   "pygments_lexer": "ipython3",
   "version": "3.7.7"
  },
  "toc": {
   "base_numbering": 1,
   "nav_menu": {},
   "number_sections": true,
   "sideBar": true,
   "skip_h1_title": false,
   "title_cell": "Table of Contents",
   "title_sidebar": "Navigation",
   "toc_cell": true,
   "toc_position": {},
   "toc_section_display": true,
   "toc_window_display": true
  },
  "varInspector": {
   "cols": {
    "lenName": 16,
    "lenType": 16,
    "lenVar": 40
   },
   "kernels_config": {
    "python": {
     "delete_cmd_postfix": "",
     "delete_cmd_prefix": "del ",
     "library": "var_list.py",
     "varRefreshCmd": "print(var_dic_list())"
    },
    "r": {
     "delete_cmd_postfix": ") ",
     "delete_cmd_prefix": "rm(",
     "library": "var_list.r",
     "varRefreshCmd": "cat(var_dic_list()) "
    }
   },
   "types_to_exclude": [
    "module",
    "function",
    "builtin_function_or_method",
    "instance",
    "_Feature"
   ],
   "window_display": false
  }
 },
 "nbformat": 4,
 "nbformat_minor": 4
}
